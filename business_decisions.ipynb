{
 "cells": [
  {
   "cell_type": "markdown",
   "id": "f1bf1bca",
   "metadata": {},
   "source": [
    "**Описание проекта**\n",
    "\n",
    "В нашем распоряжении есть список гипотез для увеличения выручки. Цель - приоритизиовать гипотезы, запустить A/B-тест и проанализировать результаты. \n",
    "\n",
    "**Ход исследования**\n",
    "\n",
    "- [1. Обзор данных](#Обзор_данных)\n",
    "- [2. Работа с A/B тестом:](#Предобработка_данных)\n",
    "  - [приоритизация гипотез;](#регистр)\n",
    "  - [анализ А/Б теста;](#тип)\n",
    "- [3. Общий вывод](#функции)\n",
    "\n",
    "\n",
    "**Описание данных**\n",
    "\n",
    "Файл /datasets/hypothesis.csv.\n",
    " - Hypothesis — краткое описание гипотезы;\n",
    " - Reach — охват пользователей по 10-балльной шкале;\n",
    " - Impact — влияние на пользователей по 10-балльной шкале;\n",
    " - Confidence — уверенность в гипотезе по 10-балльной шкале;\n",
    " - Efforts — затраты ресурсов на проверку гипотезы по 10-балльной шкале. Чем больше значение Efforts, тем дороже проверка гипотезы.\n",
    " \n",
    "Файл /datasets/orders.csv.\n",
    "- transactionId — идентификатор заказа;\n",
    "- visitorId — идентификатор пользователя, совершившего заказ;\n",
    "- date — дата, когда был совершён заказ;\n",
    "- revenue — выручка заказа;\n",
    "- group — группа A/B-теста, в которую попал заказ.\n",
    "\n",
    "Файл /datasets/visitors.csv.\n",
    "- date — дата;\n",
    "- group — группа A/B-теста;\n",
    "- visitors — количество пользователей в указанную дату в указанной группе A/B-теста."
   ]
  },
  {
   "cell_type": "markdown",
   "id": "3c81dc1e",
   "metadata": {},
   "source": [
    "<a name=\"Обзор_данных\"></a>\n",
    "## 1. Обзор и предобработка данных"
   ]
  },
  {
   "cell_type": "code",
   "execution_count": 1,
   "id": "d5d10c42",
   "metadata": {},
   "outputs": [],
   "source": [
    "import pandas as pd\n",
    "import numpy as np\n",
    "import matplotlib.pyplot as plt\n",
    "from scipy import stats as st\n",
    "import datetime as dt\n",
    "import seaborn as sns\n",
    "from IPython.display import display_html\n",
    "pd.set_option('display.max_columns', 30)\n",
    "import warnings\n",
    "warnings.simplefilter('ignore')"
   ]
  },
  {
   "cell_type": "code",
   "execution_count": 2,
   "id": "7ad166cb",
   "metadata": {},
   "outputs": [],
   "source": [
    "try:\n",
    "    visitors, orders, hypothesis = (\n",
    "                            pd.read_csv('visitors.csv'),\n",
    "                            pd.read_csv('orders.csv'),\n",
    "                            pd.read_csv('hypothesis.csv')\n",
    "                            )\n",
    "except:\n",
    "    visitors, orders, hypothesis = (\n",
    "                            pd.read_csv('/datasets/visitors.csv'),\n",
    "                            pd.read_csv('/datasets/orders.csv'),\n",
    "                            pd.read_csv('/datasets/hypothesis.csv')\n",
    "                            )"
   ]
  },
  {
   "cell_type": "code",
   "execution_count": 3,
   "id": "2c8774da",
   "metadata": {},
   "outputs": [
    {
     "data": {
      "text/html": [
       "<div>\n",
       "<style scoped>\n",
       "    .dataframe tbody tr th:only-of-type {\n",
       "        vertical-align: middle;\n",
       "    }\n",
       "\n",
       "    .dataframe tbody tr th {\n",
       "        vertical-align: top;\n",
       "    }\n",
       "\n",
       "    .dataframe thead th {\n",
       "        text-align: right;\n",
       "    }\n",
       "</style>\n",
       "<table border=\"1\" class=\"dataframe\">\n",
       "  <thead>\n",
       "    <tr style=\"text-align: right;\">\n",
       "      <th></th>\n",
       "      <th>date</th>\n",
       "      <th>group</th>\n",
       "      <th>visitors</th>\n",
       "    </tr>\n",
       "  </thead>\n",
       "  <tbody>\n",
       "    <tr>\n",
       "      <th>0</th>\n",
       "      <td>2019-08-01</td>\n",
       "      <td>A</td>\n",
       "      <td>719</td>\n",
       "    </tr>\n",
       "    <tr>\n",
       "      <th>1</th>\n",
       "      <td>2019-08-02</td>\n",
       "      <td>A</td>\n",
       "      <td>619</td>\n",
       "    </tr>\n",
       "    <tr>\n",
       "      <th>2</th>\n",
       "      <td>2019-08-03</td>\n",
       "      <td>A</td>\n",
       "      <td>507</td>\n",
       "    </tr>\n",
       "    <tr>\n",
       "      <th>3</th>\n",
       "      <td>2019-08-04</td>\n",
       "      <td>A</td>\n",
       "      <td>717</td>\n",
       "    </tr>\n",
       "    <tr>\n",
       "      <th>4</th>\n",
       "      <td>2019-08-05</td>\n",
       "      <td>A</td>\n",
       "      <td>756</td>\n",
       "    </tr>\n",
       "  </tbody>\n",
       "</table>\n",
       "</div>"
      ],
      "text/plain": [
       "         date group  visitors\n",
       "0  2019-08-01     A       719\n",
       "1  2019-08-02     A       619\n",
       "2  2019-08-03     A       507\n",
       "3  2019-08-04     A       717\n",
       "4  2019-08-05     A       756"
      ]
     },
     "metadata": {},
     "output_type": "display_data"
    },
    {
     "name": "stdout",
     "output_type": "stream",
     "text": [
      "<class 'pandas.core.frame.DataFrame'>\n",
      "RangeIndex: 62 entries, 0 to 61\n",
      "Data columns (total 3 columns):\n",
      " #   Column    Non-Null Count  Dtype \n",
      "---  ------    --------------  ----- \n",
      " 0   date      62 non-null     object\n",
      " 1   group     62 non-null     object\n",
      " 2   visitors  62 non-null     int64 \n",
      "dtypes: int64(1), object(2)\n",
      "memory usage: 1.6+ KB\n"
     ]
    },
    {
     "data": {
      "text/plain": [
       "None"
      ]
     },
     "metadata": {},
     "output_type": "display_data"
    },
    {
     "name": "stdout",
     "output_type": "stream",
     "text": [
      "Дубликатов: 0\n"
     ]
    },
    {
     "data": {
      "text/html": [
       "<div>\n",
       "<style scoped>\n",
       "    .dataframe tbody tr th:only-of-type {\n",
       "        vertical-align: middle;\n",
       "    }\n",
       "\n",
       "    .dataframe tbody tr th {\n",
       "        vertical-align: top;\n",
       "    }\n",
       "\n",
       "    .dataframe thead th {\n",
       "        text-align: right;\n",
       "    }\n",
       "</style>\n",
       "<table border=\"1\" class=\"dataframe\">\n",
       "  <thead>\n",
       "    <tr style=\"text-align: right;\">\n",
       "      <th></th>\n",
       "      <th>transactionId</th>\n",
       "      <th>visitorId</th>\n",
       "      <th>date</th>\n",
       "      <th>revenue</th>\n",
       "      <th>group</th>\n",
       "    </tr>\n",
       "  </thead>\n",
       "  <tbody>\n",
       "    <tr>\n",
       "      <th>0</th>\n",
       "      <td>3667963787</td>\n",
       "      <td>3312258926</td>\n",
       "      <td>2019-08-15</td>\n",
       "      <td>1650</td>\n",
       "      <td>B</td>\n",
       "    </tr>\n",
       "    <tr>\n",
       "      <th>1</th>\n",
       "      <td>2804400009</td>\n",
       "      <td>3642806036</td>\n",
       "      <td>2019-08-15</td>\n",
       "      <td>730</td>\n",
       "      <td>B</td>\n",
       "    </tr>\n",
       "    <tr>\n",
       "      <th>2</th>\n",
       "      <td>2961555356</td>\n",
       "      <td>4069496402</td>\n",
       "      <td>2019-08-15</td>\n",
       "      <td>400</td>\n",
       "      <td>A</td>\n",
       "    </tr>\n",
       "    <tr>\n",
       "      <th>3</th>\n",
       "      <td>3797467345</td>\n",
       "      <td>1196621759</td>\n",
       "      <td>2019-08-15</td>\n",
       "      <td>9759</td>\n",
       "      <td>B</td>\n",
       "    </tr>\n",
       "    <tr>\n",
       "      <th>4</th>\n",
       "      <td>2282983706</td>\n",
       "      <td>2322279887</td>\n",
       "      <td>2019-08-15</td>\n",
       "      <td>2308</td>\n",
       "      <td>B</td>\n",
       "    </tr>\n",
       "  </tbody>\n",
       "</table>\n",
       "</div>"
      ],
      "text/plain": [
       "   transactionId   visitorId        date  revenue group\n",
       "0     3667963787  3312258926  2019-08-15     1650     B\n",
       "1     2804400009  3642806036  2019-08-15      730     B\n",
       "2     2961555356  4069496402  2019-08-15      400     A\n",
       "3     3797467345  1196621759  2019-08-15     9759     B\n",
       "4     2282983706  2322279887  2019-08-15     2308     B"
      ]
     },
     "metadata": {},
     "output_type": "display_data"
    },
    {
     "name": "stdout",
     "output_type": "stream",
     "text": [
      "<class 'pandas.core.frame.DataFrame'>\n",
      "RangeIndex: 1197 entries, 0 to 1196\n",
      "Data columns (total 5 columns):\n",
      " #   Column         Non-Null Count  Dtype \n",
      "---  ------         --------------  ----- \n",
      " 0   transactionId  1197 non-null   int64 \n",
      " 1   visitorId      1197 non-null   int64 \n",
      " 2   date           1197 non-null   object\n",
      " 3   revenue        1197 non-null   int64 \n",
      " 4   group          1197 non-null   object\n",
      "dtypes: int64(3), object(2)\n",
      "memory usage: 46.9+ KB\n"
     ]
    },
    {
     "data": {
      "text/plain": [
       "None"
      ]
     },
     "metadata": {},
     "output_type": "display_data"
    },
    {
     "name": "stdout",
     "output_type": "stream",
     "text": [
      "Дубликатов: 0\n"
     ]
    },
    {
     "data": {
      "text/html": [
       "<div>\n",
       "<style scoped>\n",
       "    .dataframe tbody tr th:only-of-type {\n",
       "        vertical-align: middle;\n",
       "    }\n",
       "\n",
       "    .dataframe tbody tr th {\n",
       "        vertical-align: top;\n",
       "    }\n",
       "\n",
       "    .dataframe thead th {\n",
       "        text-align: right;\n",
       "    }\n",
       "</style>\n",
       "<table border=\"1\" class=\"dataframe\">\n",
       "  <thead>\n",
       "    <tr style=\"text-align: right;\">\n",
       "      <th></th>\n",
       "      <th>Hypothesis</th>\n",
       "      <th>Reach</th>\n",
       "      <th>Impact</th>\n",
       "      <th>Confidence</th>\n",
       "      <th>Efforts</th>\n",
       "    </tr>\n",
       "  </thead>\n",
       "  <tbody>\n",
       "    <tr>\n",
       "      <th>0</th>\n",
       "      <td>Добавить два новых канала привлечения трафика,...</td>\n",
       "      <td>3</td>\n",
       "      <td>10</td>\n",
       "      <td>8</td>\n",
       "      <td>6</td>\n",
       "    </tr>\n",
       "    <tr>\n",
       "      <th>1</th>\n",
       "      <td>Запустить собственную службу доставки, что сок...</td>\n",
       "      <td>2</td>\n",
       "      <td>5</td>\n",
       "      <td>4</td>\n",
       "      <td>10</td>\n",
       "    </tr>\n",
       "    <tr>\n",
       "      <th>2</th>\n",
       "      <td>Добавить блоки рекомендаций товаров на сайт ин...</td>\n",
       "      <td>8</td>\n",
       "      <td>3</td>\n",
       "      <td>7</td>\n",
       "      <td>3</td>\n",
       "    </tr>\n",
       "    <tr>\n",
       "      <th>3</th>\n",
       "      <td>Изменить структура категорий, что увеличит кон...</td>\n",
       "      <td>8</td>\n",
       "      <td>3</td>\n",
       "      <td>3</td>\n",
       "      <td>8</td>\n",
       "    </tr>\n",
       "    <tr>\n",
       "      <th>4</th>\n",
       "      <td>Изменить цвет фона главной страницы, чтобы уве...</td>\n",
       "      <td>3</td>\n",
       "      <td>1</td>\n",
       "      <td>1</td>\n",
       "      <td>1</td>\n",
       "    </tr>\n",
       "  </tbody>\n",
       "</table>\n",
       "</div>"
      ],
      "text/plain": [
       "                                          Hypothesis  Reach  Impact  \\\n",
       "0  Добавить два новых канала привлечения трафика,...      3      10   \n",
       "1  Запустить собственную службу доставки, что сок...      2       5   \n",
       "2  Добавить блоки рекомендаций товаров на сайт ин...      8       3   \n",
       "3  Изменить структура категорий, что увеличит кон...      8       3   \n",
       "4  Изменить цвет фона главной страницы, чтобы уве...      3       1   \n",
       "\n",
       "   Confidence  Efforts  \n",
       "0           8        6  \n",
       "1           4       10  \n",
       "2           7        3  \n",
       "3           3        8  \n",
       "4           1        1  "
      ]
     },
     "metadata": {},
     "output_type": "display_data"
    },
    {
     "name": "stdout",
     "output_type": "stream",
     "text": [
      "<class 'pandas.core.frame.DataFrame'>\n",
      "RangeIndex: 9 entries, 0 to 8\n",
      "Data columns (total 5 columns):\n",
      " #   Column      Non-Null Count  Dtype \n",
      "---  ------      --------------  ----- \n",
      " 0   Hypothesis  9 non-null      object\n",
      " 1   Reach       9 non-null      int64 \n",
      " 2   Impact      9 non-null      int64 \n",
      " 3   Confidence  9 non-null      int64 \n",
      " 4   Efforts     9 non-null      int64 \n",
      "dtypes: int64(4), object(1)\n",
      "memory usage: 488.0+ bytes\n"
     ]
    },
    {
     "data": {
      "text/plain": [
       "None"
      ]
     },
     "metadata": {},
     "output_type": "display_data"
    },
    {
     "name": "stdout",
     "output_type": "stream",
     "text": [
      "Дубликатов: 0\n"
     ]
    }
   ],
   "source": [
    "for i in [visitors, orders, hypothesis]:\n",
    "    display(i.head())\n",
    "    display(i.info())\n",
    "    print('Дубликатов:' , i.duplicated().sum())"
   ]
  },
  {
   "cell_type": "markdown",
   "id": "1747cd13",
   "metadata": {},
   "source": [
    "Приведем столбцы с датами к нужному формату"
   ]
  },
  {
   "cell_type": "code",
   "execution_count": 4,
   "id": "7bb487dc",
   "metadata": {},
   "outputs": [],
   "source": [
    "visitors['date'] = pd.to_datetime(visitors['date'])\n",
    "orders['date'] = pd.to_datetime(orders['date'])"
   ]
  },
  {
   "cell_type": "markdown",
   "id": "e7a74442",
   "metadata": {},
   "source": [
    "***Вывод:***\n",
    "- привели столбцы с указанием даты в формат 'datetime';\n",
    "- Пропусков и дубликатов, в имеющихся данных, нет.\n",
    "\n",
    "Теперь можем приступить к работе с данными"
   ]
  },
  {
   "cell_type": "markdown",
   "id": "76efaf33",
   "metadata": {},
   "source": [
    "<a name=\"Предобработка_данных\"></a>\n",
    "## 2. Работа с A/B тестом"
   ]
  },
  {
   "cell_type": "markdown",
   "id": "e6cc48ee",
   "metadata": {},
   "source": [
    "<a name=\"приоритетные_гипотезы\"></a>\n",
    "\n",
    "**Применим фреймворк ICE**"
   ]
  },
  {
   "cell_type": "code",
   "execution_count": 5,
   "id": "c6f61385",
   "metadata": {
    "scrolled": true
   },
   "outputs": [
    {
     "data": {
      "text/html": [
       "<div>\n",
       "<style scoped>\n",
       "    .dataframe tbody tr th:only-of-type {\n",
       "        vertical-align: middle;\n",
       "    }\n",
       "\n",
       "    .dataframe tbody tr th {\n",
       "        vertical-align: top;\n",
       "    }\n",
       "\n",
       "    .dataframe thead th {\n",
       "        text-align: right;\n",
       "    }\n",
       "</style>\n",
       "<table border=\"1\" class=\"dataframe\">\n",
       "  <thead>\n",
       "    <tr style=\"text-align: right;\">\n",
       "      <th></th>\n",
       "      <th>Hypothesis</th>\n",
       "      <th>ICE</th>\n",
       "    </tr>\n",
       "  </thead>\n",
       "  <tbody>\n",
       "    <tr>\n",
       "      <th>8</th>\n",
       "      <td>Запустить акцию, дающую скидку на товар в день...</td>\n",
       "      <td>16.2</td>\n",
       "    </tr>\n",
       "    <tr>\n",
       "      <th>0</th>\n",
       "      <td>Добавить два новых канала привлечения трафика,...</td>\n",
       "      <td>13.3</td>\n",
       "    </tr>\n",
       "    <tr>\n",
       "      <th>7</th>\n",
       "      <td>Добавить форму подписки на все основные страни...</td>\n",
       "      <td>11.2</td>\n",
       "    </tr>\n",
       "    <tr>\n",
       "      <th>6</th>\n",
       "      <td>Показать на главной странице баннеры с актуаль...</td>\n",
       "      <td>8.0</td>\n",
       "    </tr>\n",
       "    <tr>\n",
       "      <th>2</th>\n",
       "      <td>Добавить блоки рекомендаций товаров на сайт ин...</td>\n",
       "      <td>7.0</td>\n",
       "    </tr>\n",
       "    <tr>\n",
       "      <th>1</th>\n",
       "      <td>Запустить собственную службу доставки, что сок...</td>\n",
       "      <td>2.0</td>\n",
       "    </tr>\n",
       "    <tr>\n",
       "      <th>5</th>\n",
       "      <td>Добавить страницу отзывов клиентов о магазине,...</td>\n",
       "      <td>1.3</td>\n",
       "    </tr>\n",
       "    <tr>\n",
       "      <th>3</th>\n",
       "      <td>Изменить структура категорий, что увеличит кон...</td>\n",
       "      <td>1.1</td>\n",
       "    </tr>\n",
       "    <tr>\n",
       "      <th>4</th>\n",
       "      <td>Изменить цвет фона главной страницы, чтобы уве...</td>\n",
       "      <td>1.0</td>\n",
       "    </tr>\n",
       "  </tbody>\n",
       "</table>\n",
       "</div>"
      ],
      "text/plain": [
       "                                          Hypothesis   ICE\n",
       "8  Запустить акцию, дающую скидку на товар в день...  16.2\n",
       "0  Добавить два новых канала привлечения трафика,...  13.3\n",
       "7  Добавить форму подписки на все основные страни...  11.2\n",
       "6  Показать на главной странице баннеры с актуаль...   8.0\n",
       "2  Добавить блоки рекомендаций товаров на сайт ин...   7.0\n",
       "1  Запустить собственную службу доставки, что сок...   2.0\n",
       "5  Добавить страницу отзывов клиентов о магазине,...   1.3\n",
       "3  Изменить структура категорий, что увеличит кон...   1.1\n",
       "4  Изменить цвет фона главной страницы, чтобы уве...   1.0"
      ]
     },
     "metadata": {},
     "output_type": "display_data"
    }
   ],
   "source": [
    "hypothesis['ICE'] = round(hypothesis['Impact'] * hypothesis['Confidence'] / hypothesis['Efforts'], 1)\n",
    "display(hypothesis[['Hypothesis','ICE']].sort_values(by='ICE', ascending = False))"
   ]
  },
  {
   "cell_type": "markdown",
   "id": "8afefccb",
   "metadata": {},
   "source": [
    "Наиболеее перспективные гипотезы: 9, 1, 8"
   ]
  },
  {
   "cell_type": "markdown",
   "id": "ca8b05dd",
   "metadata": {},
   "source": [
    "***Применим фреймворк RICE***"
   ]
  },
  {
   "cell_type": "code",
   "execution_count": 6,
   "id": "47aa6c22",
   "metadata": {},
   "outputs": [
    {
     "data": {
      "text/html": [
       "<div>\n",
       "<style scoped>\n",
       "    .dataframe tbody tr th:only-of-type {\n",
       "        vertical-align: middle;\n",
       "    }\n",
       "\n",
       "    .dataframe tbody tr th {\n",
       "        vertical-align: top;\n",
       "    }\n",
       "\n",
       "    .dataframe thead th {\n",
       "        text-align: right;\n",
       "    }\n",
       "</style>\n",
       "<table border=\"1\" class=\"dataframe\">\n",
       "  <thead>\n",
       "    <tr style=\"text-align: right;\">\n",
       "      <th></th>\n",
       "      <th>Hypothesis</th>\n",
       "      <th>RICE</th>\n",
       "    </tr>\n",
       "  </thead>\n",
       "  <tbody>\n",
       "    <tr>\n",
       "      <th>7</th>\n",
       "      <td>Добавить форму подписки на все основные страни...</td>\n",
       "      <td>112.0</td>\n",
       "    </tr>\n",
       "    <tr>\n",
       "      <th>2</th>\n",
       "      <td>Добавить блоки рекомендаций товаров на сайт ин...</td>\n",
       "      <td>56.0</td>\n",
       "    </tr>\n",
       "    <tr>\n",
       "      <th>0</th>\n",
       "      <td>Добавить два новых канала привлечения трафика,...</td>\n",
       "      <td>40.0</td>\n",
       "    </tr>\n",
       "    <tr>\n",
       "      <th>6</th>\n",
       "      <td>Показать на главной странице баннеры с актуаль...</td>\n",
       "      <td>40.0</td>\n",
       "    </tr>\n",
       "    <tr>\n",
       "      <th>8</th>\n",
       "      <td>Запустить акцию, дающую скидку на товар в день...</td>\n",
       "      <td>16.2</td>\n",
       "    </tr>\n",
       "    <tr>\n",
       "      <th>3</th>\n",
       "      <td>Изменить структура категорий, что увеличит кон...</td>\n",
       "      <td>9.0</td>\n",
       "    </tr>\n",
       "    <tr>\n",
       "      <th>1</th>\n",
       "      <td>Запустить собственную службу доставки, что сок...</td>\n",
       "      <td>4.0</td>\n",
       "    </tr>\n",
       "    <tr>\n",
       "      <th>5</th>\n",
       "      <td>Добавить страницу отзывов клиентов о магазине,...</td>\n",
       "      <td>4.0</td>\n",
       "    </tr>\n",
       "    <tr>\n",
       "      <th>4</th>\n",
       "      <td>Изменить цвет фона главной страницы, чтобы уве...</td>\n",
       "      <td>3.0</td>\n",
       "    </tr>\n",
       "  </tbody>\n",
       "</table>\n",
       "</div>"
      ],
      "text/plain": [
       "                                          Hypothesis   RICE\n",
       "7  Добавить форму подписки на все основные страни...  112.0\n",
       "2  Добавить блоки рекомендаций товаров на сайт ин...   56.0\n",
       "0  Добавить два новых канала привлечения трафика,...   40.0\n",
       "6  Показать на главной странице баннеры с актуаль...   40.0\n",
       "8  Запустить акцию, дающую скидку на товар в день...   16.2\n",
       "3  Изменить структура категорий, что увеличит кон...    9.0\n",
       "1  Запустить собственную службу доставки, что сок...    4.0\n",
       "5  Добавить страницу отзывов клиентов о магазине,...    4.0\n",
       "4  Изменить цвет фона главной страницы, чтобы уве...    3.0"
      ]
     },
     "execution_count": 6,
     "metadata": {},
     "output_type": "execute_result"
    }
   ],
   "source": [
    "hypothesis['RICE'] = hypothesis['Reach'] * hypothesis['Impact'] * hypothesis['Confidence'] / hypothesis['Efforts']\n",
    "\n",
    "hypothesis[['Hypothesis', 'RICE']].sort_values(by= 'RICE', ascending = False)"
   ]
  },
  {
   "cell_type": "markdown",
   "id": "e66b467a",
   "metadata": {},
   "source": [
    "Наиболеее перспективные гипотезы: 8, 3, 1"
   ]
  },
  {
   "cell_type": "markdown",
   "id": "f20c949b",
   "metadata": {},
   "source": [
    "Наиболее приориоритетными гипотезами являются:\n",
    "- Добавить форму подписки на все основные страницы, чтобы собрать базу клиентов для email-рассылок;\n",
    "- Добавить два новых канала привлечения трафика, что позволит привлекать на 30% больше пользователей.\n",
    "\n",
    "По ICE, также перспективной гипотезой выглядит 'Запустить акцию, дающую скидку на товар в день рождения', но по RICE она не выглядит перспективной из-за малого кол-ва клиентов, которых она затронет.\n",
    "\n",
    "По RICE, также перспективной выглядит гипотеза 'Добавить блоки рекомендаций товаров на сайт интернет магазина, чтобы повысить конверсию и средний чек заказа', по по ICE показывает не большой бал из-за малого влияние на пользователя."
   ]
  },
  {
   "cell_type": "markdown",
   "id": "6dd05e4a",
   "metadata": {},
   "source": [
    "<a name=\"проверим\"></a>\n",
    "**Проверим, есть ли клиенты входящие в обе группы**"
   ]
  },
  {
   "cell_type": "code",
   "execution_count": 7,
   "id": "705df9f6",
   "metadata": {
    "scrolled": true
   },
   "outputs": [],
   "source": [
    "in_both_groups = orders.groupby('visitorId').agg({'visitorId' : 'max',  'group': 'nunique'}).query('group == 2')\n",
    "\n",
    "in_both_groups = in_both_groups['visitorId'].tolist ()"
   ]
  },
  {
   "cell_type": "markdown",
   "id": "91b2b8e9",
   "metadata": {},
   "source": [
    "Число пользователей, входящих в обе группы: 58. \n",
    "\n",
    "Мы не можем учитывать данных пользователей при оценке A/B теста, т.к. не можем точно определить, что именно побудило их совершить покупку, следовательно, результат может быть смазан. Поэтому удалим их."
   ]
  },
  {
   "cell_type": "code",
   "execution_count": 8,
   "id": "a519d3a7",
   "metadata": {},
   "outputs": [],
   "source": [
    "orders = orders.query('visitorId != @in_both_groups')"
   ]
  },
  {
   "cell_type": "markdown",
   "id": "31a6926e",
   "metadata": {},
   "source": [
    "<a name=\"Постром\"></a>\n",
    "***Построим график кумулятивной выручки по группам.***"
   ]
  },
  {
   "cell_type": "code",
   "execution_count": 9,
   "id": "f6fcbe9f",
   "metadata": {},
   "outputs": [
    {
     "data": {
      "image/png": "[encoded data removed]",
      "text/plain": [
       "<Figure size 432x288 with 1 Axes>"
      ]
     },
     "metadata": {
      "needs_background": "light"
     },
     "output_type": "display_data"
    }
   ],
   "source": [
    "# Создадим датафрейм с уникальными парами значений 'date' и 'group', таблицы orders\n",
    "datesGroups = orders[['date' , 'group']].drop_duplicates()\n",
    "\n",
    "# получаем агрегированные, кумулятивные по дням, данные о заказах \n",
    "ordersAggregated = (datesGroups.apply(\n",
    "    lambda x: orders[np.logical_and(orders['date'] <= x['date'], orders['group'] == x['group'])].agg(\n",
    "    {'date': 'max', 'group' : 'max', 'transactionId' : 'nunique', 'visitorId' : 'nunique', 'revenue' : 'sum' }), axis=1)\n",
    "                    .sort_values(by = ['date' , 'group']))\n",
    "# получаем агрегированные, кумулятивные по дням, данные о посетителях\n",
    "visitorsAggregated = datesGroups.apply(\n",
    "    lambda x: visitors[np.logical_and(visitors['date'] <= x['date'], visitors['group'] == x['group'])].agg(\n",
    "    {'date' : 'max', 'group' : 'max', 'visitors' : 'sum'}), axis=1).sort_values(by = ['date' , 'group'])\n",
    "\n",
    "# обьеденим полученные данные\n",
    "cumulativeData = ordersAggregated.merge(visitorsAggregated, left_on=['date', 'group'], right_on=['date', 'group'])\n",
    "cumulativeData.columns = ['date', 'group', 'orders', 'buyers', 'revenue', 'visitors']\n",
    "\n",
    "# Выведим данные из каждой группы в отдельные таблицы\n",
    "cumulativeRevenueA = cumulativeData[cumulativeData['group'] == 'A']\n",
    "cumulativeRevenueB = cumulativeData[cumulativeData['group'] == 'B']\n",
    "\n",
    "\n",
    "\n",
    "plt.plot(cumulativeRevenueA['date'], cumulativeRevenueA['revenue'], label ='A')\n",
    "plt.plot(cumulativeRevenueB['date'], cumulativeRevenueB['revenue'], label ='B')\n",
    "plt.ylabel('Выручка')\n",
    "plt.xlabel('Дата')\n",
    "plt.xticks(rotation = 45)\n",
    "plt.title('Кумулятивная выручки по группам')\n",
    "plt.legend();"
   ]
  },
  {
   "cell_type": "markdown",
   "id": "015e18a5",
   "metadata": {},
   "source": [
    "группа В лидирует на протяжении всего эксперемента. Ближе к середине теста, есть резкий скачок выручки в группе В, вероятно это сигнализирует о наличие аномалий в эксперементе."
   ]
  },
  {
   "cell_type": "markdown",
   "id": "2421c1aa",
   "metadata": {},
   "source": [
    "***Построим график кумулятивного среднего чека по группам***"
   ]
  },
  {
   "cell_type": "code",
   "execution_count": 10,
   "id": "5ccb8301",
   "metadata": {
    "scrolled": true
   },
   "outputs": [
    {
     "data": {
      "image/png": "[encoded data removed]",
      "text/plain": [
       "<Figure size 432x288 with 1 Axes>"
      ]
     },
     "metadata": {
      "needs_background": "light"
     },
     "output_type": "display_data"
    }
   ],
   "source": [
    "plt.plot(cumulativeRevenueA['date'], cumulativeRevenueA['revenue'] / cumulativeRevenueA['orders'], label ='A')\n",
    "plt.plot(cumulativeRevenueB['date'], cumulativeRevenueB['revenue'] / cumulativeRevenueB['orders'], label ='B')\n",
    "\n",
    "plt.ylabel('Средний чек')\n",
    "plt.xlabel('Дата')\n",
    "plt.xticks(rotation = 45)\n",
    "plt.title('Средний чек по группам группам')\n",
    "plt.legend();"
   ]
  },
  {
   "cell_type": "markdown",
   "id": "13d2579f",
   "metadata": {},
   "source": [
    "аналогичная ситуация, в обоих сегметах есть всплески"
   ]
  },
  {
   "cell_type": "markdown",
   "id": "7f9edc67",
   "metadata": {},
   "source": [
    "***Построим график относительного изменения кумулятивного среднего чека группы B к группе A.***"
   ]
  },
  {
   "cell_type": "code",
   "execution_count": 11,
   "id": "e8263836",
   "metadata": {},
   "outputs": [
    {
     "data": {
      "image/png": "[encoded data removed]",
      "text/plain": [
       "<Figure size 432x288 with 1 Axes>"
      ]
     },
     "metadata": {
      "needs_background": "light"
     },
     "output_type": "display_data"
    }
   ],
   "source": [
    "mergedCumulativeRevenue = cumulativeRevenueA.merge(\n",
    "    cumulativeRevenueB, left_on='date', right_on='date', how='left', suffixes=['A', 'B'])\n",
    "\n",
    "plt.plot(mergedCumulativeRevenue['date'], (mergedCumulativeRevenue['revenueB']/mergedCumulativeRevenue['ordersB'])/(mergedCumulativeRevenue['revenueA']/mergedCumulativeRevenue['ordersA'])-1)\n",
    "\n",
    "plt.axhline(y=0, color='black', linestyle='--') \n",
    "plt.ylabel('Изменение среднего чека')\n",
    "plt.xlabel('Дата')\n",
    "plt.xticks(rotation = 45)\n",
    "plt.title('Относительное изменение кумулятивного среднего чека');"
   ]
  },
  {
   "cell_type": "markdown",
   "id": "325aef04",
   "metadata": {},
   "source": [
    "***Вывод:***\n",
    "В нескольких точках график резко «скачет», что, в очередной раз, сигнализирует нам о крупных вбросах."
   ]
  },
  {
   "cell_type": "markdown",
   "id": "fcf193c7",
   "metadata": {},
   "source": [
    "***Построим график кумулятивного среднего количества заказов на посетителя по группам.***"
   ]
  },
  {
   "cell_type": "code",
   "execution_count": 12,
   "id": "035e3833",
   "metadata": {
    "scrolled": false
   },
   "outputs": [
    {
     "data": {
      "image/png": "[encoded data removed]",
      "text/plain": [
       "<Figure size 432x288 with 1 Axes>"
      ]
     },
     "metadata": {
      "needs_background": "light"
     },
     "output_type": "display_data"
    }
   ],
   "source": [
    "cumulativeRevenueA['conversion'] = cumulativeRevenueA['orders']/cumulativeRevenueA['visitors']\n",
    "cumulativeRevenueB['conversion'] = cumulativeRevenueB['orders']/cumulativeRevenueB['visitors']\n",
    "\n",
    "plt.plot(cumulativeRevenueA['date'], cumulativeRevenueA['conversion'], label='A')\n",
    "plt.plot(cumulativeRevenueB['date'], cumulativeRevenueB['conversion'], label='B')\n",
    "\n",
    "plt.legend()\n",
    "plt.ylabel('Кол-во заказов')\n",
    "plt.xlabel('Дата')\n",
    "plt.xticks(rotation = 45)\n",
    "plt.title('Среднее кол-во заказов по группам')\n",
    "plt.show()\n"
   ]
  },
  {
   "cell_type": "markdown",
   "id": "2461d8ab",
   "metadata": {},
   "source": [
    "***Вывод:***\n",
    "Начиная с 6 августа, кол-во заказов в группе B стабильно выше"
   ]
  },
  {
   "cell_type": "markdown",
   "id": "932d8bd1",
   "metadata": {},
   "source": [
    "***Построим график относительного изменения кумулятивного среднего количества заказов на посетителя группы B к группе A***"
   ]
  },
  {
   "cell_type": "code",
   "execution_count": 13,
   "id": "6a80c13a",
   "metadata": {
    "scrolled": true
   },
   "outputs": [
    {
     "data": {
      "image/png": "[encoded data removed]",
      "text/plain": [
       "<Figure size 432x288 with 1 Axes>"
      ]
     },
     "metadata": {
      "needs_background": "light"
     },
     "output_type": "display_data"
    }
   ],
   "source": [
    "mergedCumulativeConversions = (cumulativeRevenueA[['date','conversion']].merge(\n",
    "    cumulativeRevenueB[['date','conversion']], left_on='date', right_on='date', how='left', suffixes=['A', 'B']))\n",
    "\n",
    "plt.plot(mergedCumulativeConversions['date'], mergedCumulativeConversions['conversionB']/mergedCumulativeConversions['conversionA']-1, label=\"Относительный прирост конверсии группы B относительно группы A\")\n",
    "plt.legend()\n",
    "\n",
    "plt.axhline(y=0.1, color='grey', linestyle='--')\n",
    "\n",
    "plt.ylabel('Кумулятивная конверсия')\n",
    "plt.xlabel('Дата')\n",
    "plt.xticks(rotation = 45)\n",
    "plt.title('Относительное изменение кумулятивной конверсии группы B к группе A')\n",
    "plt.show()"
   ]
  },
  {
   "cell_type": "markdown",
   "id": "8c1c0de0",
   "metadata": {},
   "source": [
    "***Вывод:*** Начиная с 6 августа, конверсия группы B стабильно выше"
   ]
  },
  {
   "cell_type": "markdown",
   "id": "faa9a600",
   "metadata": {},
   "source": [
    "***Построим точечный график количества заказов по пользователям.***"
   ]
  },
  {
   "cell_type": "code",
   "execution_count": 14,
   "id": "26400d41",
   "metadata": {
    "scrolled": true
   },
   "outputs": [
    {
     "data": {
      "image/png": "[encoded data removed]",
      "text/plain": [
       "<Figure size 432x288 with 1 Axes>"
      ]
     },
     "metadata": {
      "needs_background": "light"
     },
     "output_type": "display_data"
    }
   ],
   "source": [
    "ordersByUsers = (\n",
    "    orders.groupby('visitorId', as_index=False)\n",
    "    .agg({'transactionId': 'nunique'}))\n",
    "\n",
    "ordersByUsers.columns = ['userId', 'orders']\n",
    "\n",
    "x_values = pd.Series(range(0, len(ordersByUsers)))\n",
    "\n",
    "plt.scatter(x_values, ordersByUsers['orders'])\n",
    "\n",
    "plt.ylabel('Кол-во заказов')\n",
    "plt.xlabel('Кол-во пользователей')\n",
    "plt.title('Кол-во заказов по пользователям')\n",
    "plt.show()\n"
   ]
  },
  {
   "cell_type": "markdown",
   "id": "c4e31121",
   "metadata": {},
   "source": [
    "Много пользователей с 2 заказами, также есть пользователи с 3 заказами, пока не ясно, считать их аномалиями или нет."
   ]
  },
  {
   "cell_type": "markdown",
   "id": "2834e374",
   "metadata": {},
   "source": [
    "***Посчитаем 95-й и 99-й перцентили количества заказов на пользователя***"
   ]
  },
  {
   "cell_type": "code",
   "execution_count": 15,
   "id": "33ef230e",
   "metadata": {},
   "outputs": [
    {
     "data": {
      "text/plain": [
       "array([1., 1., 2.])"
      ]
     },
     "execution_count": 15,
     "metadata": {},
     "output_type": "execute_result"
    }
   ],
   "source": [
    "np.percentile(ordersByUsers['orders'], [90, 95, 99])"
   ]
  },
  {
   "cell_type": "markdown",
   "id": "fdade4f4",
   "metadata": {},
   "source": [
    "Не более 1% пользователей оформили 2.\n",
    "\n",
    "Лучшим решением будет взять 1 заказ в качестве верхней границы на одного пользователя."
   ]
  },
  {
   "cell_type": "markdown",
   "id": "684646d9",
   "metadata": {},
   "source": [
    "***Построим точечный график стоимостей заказов***"
   ]
  },
  {
   "cell_type": "code",
   "execution_count": 16,
   "id": "904531e8",
   "metadata": {
    "scrolled": false
   },
   "outputs": [
    {
     "data": {
      "image/png": "[encoded data removed]",
      "text/plain": [
       "<Figure size 432x288 with 1 Axes>"
      ]
     },
     "metadata": {
      "needs_background": "light"
     },
     "output_type": "display_data"
    }
   ],
   "source": [
    "x_values = pd.Series(range(0,len(orders['revenue'])))\n",
    "plt.scatter(x_values, orders['revenue'])\n",
    "\n",
    "plt.ylim([0, 30000])\n",
    "plt.ylabel('Стоимость')\n",
    "plt.xlabel('Кол-во пользователей')\n",
    "plt.title('Стоимость заказа')\n",
    "plt.show();"
   ]
  },
  {
   "cell_type": "markdown",
   "id": "20b2126d",
   "metadata": {},
   "source": [
    "***Построим допольнительный график, без вброса***"
   ]
  },
  {
   "cell_type": "code",
   "execution_count": 17,
   "id": "2e774cd9",
   "metadata": {},
   "outputs": [
    {
     "data": {
      "image/png": "[encoded data removed]",
      "text/plain": [
       "<Figure size 432x288 with 1 Axes>"
      ]
     },
     "metadata": {
      "needs_background": "light"
     },
     "output_type": "display_data"
    }
   ],
   "source": [
    "x_values = pd.Series(range(0,len(orders['revenue'])))\n",
    "plt.scatter(x_values, orders['revenue'])\n",
    "\n",
    "plt.ylim([0, 30000])\n",
    "plt.ylabel('Стоимость')\n",
    "plt.xlabel('Кол-во пользователей')\n",
    "plt.title('Стоимость заказа')\n",
    "plt.show();"
   ]
  },
  {
   "cell_type": "markdown",
   "id": "eace774c",
   "metadata": {},
   "source": [
    "Большинство заказов находятся в пределах 20 000 руб., есть аномально большой заказ 1 200 000 руб. + ."
   ]
  },
  {
   "cell_type": "markdown",
   "id": "e476a30a",
   "metadata": {},
   "source": [
    "***Посчитаем 95-й и 99-й перцентили стоимости заказов***"
   ]
  },
  {
   "cell_type": "code",
   "execution_count": 18,
   "id": "a696aefd",
   "metadata": {},
   "outputs": [
    {
     "data": {
      "text/plain": [
       "array([17990., 26785., 53904.])"
      ]
     },
     "execution_count": 18,
     "metadata": {},
     "output_type": "execute_result"
    }
   ],
   "source": [
    "np.percentile(orders['revenue'], [90, 95, 99])"
   ]
  },
  {
   "cell_type": "markdown",
   "id": "8723c57c",
   "metadata": {},
   "source": [
    "***Вывод:***\n",
    "Не более 5% процентов заказов привышают стоимость в 26 785 и не более 1% в 53 904. Установим границу заказа в 26 785 руб."
   ]
  },
  {
   "cell_type": "markdown",
   "id": "588b581f",
   "metadata": {},
   "source": [
    "***Посчитаем статистическую значимость различий в среднем количестве заказов на посетителя между группами по «сырым» данным***\n",
    "\n",
    "Проверка гипотезы.\n",
    "\n",
    "Нулевая гипотеза : различий в кол-ве заказов между группами нет.\n",
    "\n",
    "Альтернативная гипотеза: различия в кол-ве заказов между группа миесть.\n",
    "\n",
    "Alpha = 0.05\n",
    "\n",
    "Проверим гипотезу методом ***Манна-Уитни*** (st.mannwhitneyu)"
   ]
  },
  {
   "cell_type": "code",
   "execution_count": 19,
   "id": "c49b2f8c",
   "metadata": {},
   "outputs": [],
   "source": [
    "visitorsADaily = visitors[visitors['group'] == 'A'][['date', 'visitors']]\n",
    "visitorsADaily.columns = ['date', 'visitorsPerDateA']\n",
    "visitorsACummulative = visitorsADaily.apply(\n",
    "    lambda x: visitorsADaily[visitorsADaily['date'] <= x['date']].agg({'date': 'max', 'visitorsPerDateA': 'sum'}),axis=1)\n",
    "\n",
    "visitorsACummulative.columns = ['date', 'visitorsCummulativeA']\n",
    "\n",
    "visitorsBDaily = visitors[visitors['group'] == 'B'][['date', 'visitors']]\n",
    "visitorsBDaily.columns = ['date', 'visitorsPerDateB']\n",
    "\n",
    "visitorsBCummulative = visitorsBDaily.apply(\n",
    "    lambda x: visitorsBDaily[visitorsBDaily['date'] <= x['date']].agg({'date': 'max', 'visitorsPerDateB': 'sum'}), axis=1)\n",
    "\n",
    "visitorsBCummulative.columns = ['date', 'visitorsCummulativeB']\n",
    "\n",
    "ordersADaily = orders[orders['group'] == 'A'][['date', 'transactionId', 'visitorId', 'revenue']].groupby(\n",
    "    'date', as_index=False).agg({'transactionId': pd.Series.nunique, 'revenue': 'sum'})\n",
    "ordersADaily.columns = ['date', 'ordersPerDateA', 'revenuePerDateA']\n",
    "\n",
    "\n",
    "ordersACummulative = ordersADaily.apply(\n",
    "    lambda x: ordersADaily[ordersADaily['date'] <= x['date']].agg(\n",
    "        {'date': 'max', 'ordersPerDateA': 'sum', 'revenuePerDateA': 'sum'}), axis=1,).sort_values(by=['date'])\n",
    "\n",
    "ordersACummulative.columns = ['date', 'ordersCummulativeA', 'revenueCummulativeA']\n",
    "\n",
    "ordersBDaily = orders[orders['group'] == 'B'][['date', 'transactionId', 'visitorId', 'revenue']].groupby(\n",
    "    'date', as_index=False).agg({'transactionId': pd.Series.nunique, 'revenue': 'sum'})\n",
    "\n",
    "ordersADaily.columns = ['date', 'ordersPerDateB', 'revenuePerDateB']\n",
    "\n",
    "\n",
    "ordersBCummulative = ordersADaily.apply(\n",
    "    lambda x: ordersADaily[ordersADaily['date'] <= x['date']].agg(\n",
    "        {'date': 'max', 'ordersPerDateB': 'sum', 'revenuePerDateB': 'sum'}), axis=1,).sort_values(by=['date'])\n",
    "\n",
    "ordersBCummulative.columns = ['date', 'ordersCummulativeB', 'revenueCummulativeB']\n",
    "\n",
    "\n",
    "data = (ordersADaily\n",
    "    .merge(ordersBDaily, left_on='date', right_on='date', how='left')\n",
    "    .merge(ordersACummulative, left_on='date', right_on='date', how='left')\n",
    "    .merge(ordersBCummulative, left_on='date', right_on='date', how='left')\n",
    "    .merge(visitorsADaily, left_on='date', right_on='date', how='left')\n",
    "    .merge(visitorsBDaily, left_on='date', right_on='date', how='left')\n",
    "    .merge(visitorsACummulative, left_on='date', right_on='date', how='left')\n",
    "    .merge(visitorsBCummulative, left_on='date', right_on='date', how='left'))"
   ]
  },
  {
   "cell_type": "code",
   "execution_count": 20,
   "id": "a6e9fca3",
   "metadata": {
    "scrolled": true
   },
   "outputs": [
    {
     "name": "stdout",
     "output_type": "stream",
     "text": [
      "0.011\n",
      "0.160\n"
     ]
    }
   ],
   "source": [
    "ordersByUsersA = (orders[orders['group'] == 'A']\n",
    "                  .groupby('visitorId', as_index=False)\n",
    "                  .agg({'transactionId': pd.Series.nunique}))\n",
    "\n",
    "ordersByUsersA.columns = ['userId', 'orders']\n",
    "\n",
    "ordersByUsersB = (orders[orders['group'] == 'B']\n",
    "                  .groupby('visitorId', as_index=False)\n",
    "                  .agg({'transactionId': pd.Series.nunique}))\n",
    "\n",
    "ordersByUsersB.columns = ['userId', 'orders'] \n",
    "\n",
    "\n",
    "sampleA = pd.concat([ordersByUsersA['orders'],pd.Series(0, index=np.arange(data['visitorsPerDateA'].sum() - len(ordersByUsersA['orders'])), name='orders')],axis=0)\n",
    "\n",
    "sampleB = pd.concat([ordersByUsersB['orders'],pd.Series(0, index=np.arange(data['visitorsPerDateB'].sum() - len(ordersByUsersB['orders'])), name='orders')],axis=0)\n",
    "\n",
    "\n",
    "print(\"{0:.3f}\".format(st.mannwhitneyu(sampleA, sampleB)[1]))\n",
    "\n",
    "print(\"{0:.3f}\".format(sampleB.mean() / sampleA.mean() - 1))"
   ]
  },
  {
   "cell_type": "markdown",
   "id": "2a8b2346",
   "metadata": {},
   "source": [
    "***Вывод:***\n",
    "По сырым данным различия между группами есть, p-value = 0.011. Нулевую гипотезу, что различий в среднем кол-ве заказов между группами нет - отвергаем. Относительный выйгрыш группы B равен 16% "
   ]
  },
  {
   "cell_type": "markdown",
   "id": "2ea5cd33",
   "metadata": {},
   "source": [
    "***Посчитам статистическую значимость различий в среднем чеке заказа между группами по «сырым» данным***"
   ]
  },
  {
   "cell_type": "markdown",
   "id": "98543e10",
   "metadata": {},
   "source": [
    "***Проверка гипотезы.***\n",
    "\n",
    "Нулевая гипотеза : различий в среднем чеке между группами нет.\n",
    "\n",
    "Альтернативная гипотеза: различия в среднем чеке между группами есть.\n",
    "\n",
    "Alpha = 0.05\n",
    "\n",
    "Проверим гипотезу методом ***Манна-Уитни*** (st.mannwhitneyu)"
   ]
  },
  {
   "cell_type": "code",
   "execution_count": 21,
   "id": "d5314bdb",
   "metadata": {},
   "outputs": [
    {
     "name": "stdout",
     "output_type": "stream",
     "text": [
      "0.829\n",
      "0.287\n"
     ]
    }
   ],
   "source": [
    "print('{0:.3f}'.format(st.mannwhitneyu(orders[orders['group']=='A']['revenue'], orders[orders['group']=='B']['revenue'])[1]))\n",
    "print('{0:.3f}'.format(orders[orders['group']=='B']['revenue'].mean()/orders[orders['group']=='A']['revenue'].mean()-1))"
   ]
  },
  {
   "cell_type": "markdown",
   "id": "ddb554cf",
   "metadata": {},
   "source": [
    "p-value = 0.829, следовательно, у нас нет причин отвергать нулевую гипотезу. \n",
    "\n",
    "Также можем отметить, что среднй чек в группе 'B'  выше на 28.7%."
   ]
  },
  {
   "cell_type": "markdown",
   "id": "6d841752",
   "metadata": {},
   "source": [
    "***Посчитаем статистическую значимость различий в среднем количестве заказов на посетителя между группами по «очищенным» данным.***\n",
    "\n",
    "Проверка гипотезы.\n",
    "\n",
    "Нулевая гипотеза : различий в кол-ве заказов между группами нет.\n",
    "\n",
    "Альтернативная гипотеза: различия в кол-ве заказов между группа миесть.\n",
    "\n",
    "Alpha = 0.05\n",
    "\n",
    "Проверим гипотезу методом ***Манна-Уитни*** (st.mannwhitneyu)"
   ]
  },
  {
   "cell_type": "code",
   "execution_count": 22,
   "id": "682902db",
   "metadata": {},
   "outputs": [],
   "source": [
    "# Найдем 'аномальных' пользователей\n",
    "usersWithManyOrders = pd.concat(\n",
    "    [ordersByUsersA[ordersByUsersA['orders'] > 2]['userId'],\n",
    "     ordersByUsersB[ordersByUsersB['orders'] > 2]['userId'],],axis=0,)\n",
    "\n",
    "usersWithExpensiveOrders = orders[orders['revenue'] > 26785]['visitorId']\n",
    "\n",
    "abnormalUsers = (pd.concat([usersWithManyOrders, usersWithExpensiveOrders], axis=0).drop_duplicates().sort_values())\n",
    "\n",
    "# исключим 'аномальных' пользователей из наших выборок\n",
    "sampleAFiltered = pd.concat([ordersByUsersA[np.logical_not(ordersByUsersA['userId'].isin(abnormalUsers))]['orders'],\n",
    "        pd.Series(0,index=np.arange(data['visitorsPerDateA'].sum() - len(ordersByUsersA['orders'])),\n",
    "            name='orders',),],axis=0,)"
   ]
  },
  {
   "cell_type": "code",
   "execution_count": 23,
   "id": "da13b5e3",
   "metadata": {},
   "outputs": [
    {
     "name": "stdout",
     "output_type": "stream",
     "text": [
      "0.012\n",
      "0.182\n"
     ]
    }
   ],
   "source": [
    "sampleBFiltered = pd.concat([ordersByUsersB[np.logical_not(ordersByUsersB['userId'].isin(abnormalUsers))]['orders'],\n",
    "        pd.Series(0,index=np.arange(data['visitorsPerDateB'].sum() - len(ordersByUsersB['orders'])),\n",
    "            name='orders',),],axis=0,)\n",
    "\n",
    "# Применим статистический критерий Манна-Уитни к полученным выборкам\n",
    "print('{0:.3f}'.format(st.mannwhitneyu(sampleAFiltered, sampleBFiltered)[1]))\n",
    "print('{0:.3f}'.format(sampleBFiltered.mean()/sampleAFiltered.mean()-1))"
   ]
  },
  {
   "cell_type": "markdown",
   "id": "2de1dd32",
   "metadata": {},
   "source": [
    "***Вывод:*** \n",
    "\n",
    "Мы получили p-value = 0.012, против p-value = 0.011 по «сырым» данным. Мы вновь отвергаем нулевую гипотезу. \n",
    "\n",
    "Также стоить отметить, что выйгрыш группы 'B' уже составляет 18.2%, против 16% по «сырым» данным."
   ]
  },
  {
   "cell_type": "markdown",
   "id": "34718e63",
   "metadata": {},
   "source": [
    "***Посчитаем статистическую значимость различий в среднем чеке заказа между группами по «очищенным» данным.***"
   ]
  },
  {
   "cell_type": "markdown",
   "id": "e2c4ec14",
   "metadata": {},
   "source": [
    "***Проверка гипотезы.***\n",
    "\n",
    "Нулевая гипотеза : различий в среднем чеке между группами нет.\n",
    "\n",
    "Альтернативная гипотеза: различия в среднем чеке между группами есть.\n",
    "\n",
    "Alpha = 0.05\n",
    "\n",
    "Проверим гипотезу методом ***Манна-Уитни*** (st.mannwhitneyu)"
   ]
  },
  {
   "cell_type": "code",
   "execution_count": 24,
   "id": "d53a4248",
   "metadata": {},
   "outputs": [
    {
     "name": "stdout",
     "output_type": "stream",
     "text": [
      "0.646\n",
      "-0.048\n"
     ]
    }
   ],
   "source": [
    "print('{0:.3f}'.format(st.mannwhitneyu(orders[np.logical_and(orders['group'] == 'A',\n",
    "                    np.logical_not(orders['visitorId'].isin(abnormalUsers)),)]['revenue'],\n",
    "            orders[np.logical_and(orders['group'] == 'B',np.logical_not(orders['visitorId'].isin(abnormalUsers)),)]\n",
    "                  ['revenue'],)[1]))\n",
    "print(\"{0:.3f}\".format(orders[np.logical_and(orders['group'] == 'B',np.logical_not(orders['visitorId'].isin(abnormalUsers)),)]\n",
    "                  ['revenue'].mean() / orders[np.logical_and(orders['group'] == 'A',np.logical_not(orders['visitorId']\n",
    "                  .isin(abnormalUsers)),)]['revenue'].mean()- 1))"
   ]
  },
  {
   "cell_type": "markdown",
   "id": "e2c6aa88",
   "metadata": {},
   "source": [
    "***Вывод:***p-value = 0.646, следовательно, у нас нет причин отвергать нулевую гипотезу. \n",
    "\n",
    "Можно отметить, что после фильтрации данных, относительный выйгрыш B снизился с 28.7% до -4.8%  по сравнению с группой B. Что в явной форме нам указывает на критичное влияние вбросов на результат."
   ]
  },
  {
   "cell_type": "markdown",
   "id": "15ed0336",
   "metadata": {},
   "source": [
    "***Принятие решения  по результатам теста.***\n",
    "\n",
    "По итогу, на основании проведенного исследования, мы можем сделать вывод, что при сравнительно равной сумме чека в испытуемых группах, клиенты из группы 'В' значительно чаще совершают заказы по сравнению с гуппой 'А' ( на 16% по «сырым» данным и 18.2% по «очищенным»), что в перспективе может значительно повысить выручку магазина.\n",
    "\n",
    "Основываясь на вышеописанных фактах, мы принимаем решение о остановке тестирования и констатируем победу группы B."
   ]
  }
 ],
 "metadata": {
  "ExecuteTimeLog": [
   {
    "duration": 1371,
    "start_time": "2023-01-24T16:24:16.854Z"
   },
   {
    "duration": 55,
    "start_time": "2023-01-24T16:24:18.228Z"
   },
   {
    "duration": 14,
    "start_time": "2023-01-24T16:24:18.285Z"
   },
   {
    "duration": 35,
    "start_time": "2023-01-24T16:24:18.301Z"
   },
   {
    "duration": 30,
    "start_time": "2023-01-24T16:24:18.338Z"
   },
   {
    "duration": 58,
    "start_time": "2023-01-24T16:24:18.370Z"
   },
   {
    "duration": 25,
    "start_time": "2023-01-24T16:24:18.430Z"
   },
   {
    "duration": 592,
    "start_time": "2023-01-24T16:24:18.457Z"
   },
   {
    "duration": 210,
    "start_time": "2023-01-24T16:24:19.050Z"
   },
   {
    "duration": 330,
    "start_time": "2023-01-24T16:24:19.264Z"
   },
   {
    "duration": 220,
    "start_time": "2023-01-24T16:24:19.598Z"
   },
   {
    "duration": 336,
    "start_time": "2023-01-24T16:24:19.820Z"
   },
   {
    "duration": 171,
    "start_time": "2023-01-24T16:24:20.158Z"
   },
   {
    "duration": 6,
    "start_time": "2023-01-24T16:24:20.331Z"
   },
   {
    "duration": 201,
    "start_time": "2023-01-24T16:24:20.339Z"
   },
   {
    "duration": 6,
    "start_time": "2023-01-24T16:24:20.543Z"
   },
   {
    "duration": 387,
    "start_time": "2023-01-24T16:24:20.552Z"
   },
   {
    "duration": 173,
    "start_time": "2023-01-24T16:24:20.942Z"
   },
   {
    "duration": 11,
    "start_time": "2023-01-24T16:24:21.117Z"
   },
   {
    "duration": 54,
    "start_time": "2023-01-24T16:24:21.129Z"
   },
   {
    "duration": 28,
    "start_time": "2023-01-24T16:24:21.185Z"
   },
   {
    "duration": 1403,
    "start_time": "2023-01-24T16:42:29.081Z"
   },
   {
    "duration": 54,
    "start_time": "2023-01-24T16:43:03.793Z"
   },
   {
    "duration": 132,
    "start_time": "2023-01-24T16:45:04.146Z"
   },
   {
    "duration": 1284,
    "start_time": "2023-01-24T16:45:10.610Z"
   },
   {
    "duration": 274,
    "start_time": "2023-01-24T16:45:11.896Z"
   },
   {
    "duration": 65,
    "start_time": "2023-01-24T16:45:12.173Z"
   },
   {
    "duration": 7,
    "start_time": "2023-01-24T16:45:12.244Z"
   },
   {
    "duration": 22,
    "start_time": "2023-01-24T16:45:12.253Z"
   },
   {
    "duration": 17,
    "start_time": "2023-01-24T16:45:12.278Z"
   },
   {
    "duration": 14,
    "start_time": "2023-01-24T16:45:12.297Z"
   },
   {
    "duration": 33,
    "start_time": "2023-01-24T16:45:12.313Z"
   },
   {
    "duration": 670,
    "start_time": "2023-01-24T16:45:12.349Z"
   },
   {
    "duration": 0,
    "start_time": "2023-01-24T16:45:13.021Z"
   },
   {
    "duration": 0,
    "start_time": "2023-01-24T16:45:13.023Z"
   },
   {
    "duration": 0,
    "start_time": "2023-01-24T16:45:13.024Z"
   },
   {
    "duration": 0,
    "start_time": "2023-01-24T16:45:13.026Z"
   },
   {
    "duration": 0,
    "start_time": "2023-01-24T16:45:13.027Z"
   },
   {
    "duration": 0,
    "start_time": "2023-01-24T16:45:13.029Z"
   },
   {
    "duration": 0,
    "start_time": "2023-01-24T16:45:13.045Z"
   },
   {
    "duration": 0,
    "start_time": "2023-01-24T16:45:13.046Z"
   },
   {
    "duration": 0,
    "start_time": "2023-01-24T16:45:13.050Z"
   },
   {
    "duration": 0,
    "start_time": "2023-01-24T16:45:13.052Z"
   },
   {
    "duration": 0,
    "start_time": "2023-01-24T16:45:13.053Z"
   },
   {
    "duration": 0,
    "start_time": "2023-01-24T16:45:13.054Z"
   },
   {
    "duration": 0,
    "start_time": "2023-01-24T16:45:13.056Z"
   },
   {
    "duration": 694,
    "start_time": "2023-01-24T16:45:42.765Z"
   },
   {
    "duration": 69,
    "start_time": "2023-01-24T16:46:07.226Z"
   },
   {
    "duration": 445,
    "start_time": "2023-01-24T16:46:16.557Z"
   },
   {
    "duration": 474,
    "start_time": "2023-01-24T16:46:52.158Z"
   },
   {
    "duration": 278,
    "start_time": "2023-01-24T16:47:25.229Z"
   },
   {
    "duration": 474,
    "start_time": "2023-01-24T16:47:39.089Z"
   },
   {
    "duration": 446,
    "start_time": "2023-01-24T16:48:13.720Z"
   },
   {
    "duration": 271,
    "start_time": "2023-01-24T16:48:15.375Z"
   },
   {
    "duration": 317,
    "start_time": "2023-01-24T16:48:17.227Z"
   },
   {
    "duration": 210,
    "start_time": "2023-01-24T16:48:18.851Z"
   },
   {
    "duration": 377,
    "start_time": "2023-01-24T16:48:20.641Z"
   },
   {
    "duration": 149,
    "start_time": "2023-01-24T16:48:22.387Z"
   },
   {
    "duration": 6,
    "start_time": "2023-01-24T16:48:23.130Z"
   },
   {
    "duration": 163,
    "start_time": "2023-01-24T16:48:23.893Z"
   },
   {
    "duration": 7,
    "start_time": "2023-01-24T16:48:24.657Z"
   },
   {
    "duration": 260,
    "start_time": "2023-01-24T16:48:25.550Z"
   },
   {
    "duration": 152,
    "start_time": "2023-01-24T16:48:25.902Z"
   },
   {
    "duration": 10,
    "start_time": "2023-01-24T16:48:27.167Z"
   },
   {
    "duration": 33,
    "start_time": "2023-01-24T16:48:27.837Z"
   },
   {
    "duration": 20,
    "start_time": "2023-01-24T16:48:28.869Z"
   },
   {
    "duration": 31,
    "start_time": "2023-01-24T16:54:12.890Z"
   },
   {
    "duration": 75,
    "start_time": "2023-01-24T16:57:31.520Z"
   },
   {
    "duration": 13,
    "start_time": "2023-01-24T16:59:16.220Z"
   },
   {
    "duration": 142,
    "start_time": "2023-01-24T17:01:39.220Z"
   },
   {
    "duration": 146,
    "start_time": "2023-01-24T17:02:09.512Z"
   },
   {
    "duration": 122,
    "start_time": "2023-01-24T17:02:16.687Z"
   },
   {
    "duration": 135,
    "start_time": "2023-01-24T17:02:21.258Z"
   },
   {
    "duration": 221,
    "start_time": "2023-01-24T17:02:26.589Z"
   },
   {
    "duration": 281,
    "start_time": "2023-01-24T17:02:35.655Z"
   },
   {
    "duration": 61,
    "start_time": "2023-01-24T17:02:57.173Z"
   },
   {
    "duration": 57,
    "start_time": "2023-01-24T17:04:04.487Z"
   },
   {
    "duration": 51,
    "start_time": "2023-01-24T17:04:39.396Z"
   },
   {
    "duration": 243,
    "start_time": "2023-01-24T17:05:16.827Z"
   },
   {
    "duration": 186,
    "start_time": "2023-01-24T17:05:18.884Z"
   },
   {
    "duration": 17,
    "start_time": "2023-01-24T17:05:53.973Z"
   },
   {
    "duration": 15,
    "start_time": "2023-01-24T17:06:22.272Z"
   },
   {
    "duration": 11,
    "start_time": "2023-01-24T17:07:05.184Z"
   },
   {
    "duration": 29,
    "start_time": "2023-01-24T17:07:11.439Z"
   },
   {
    "duration": 9,
    "start_time": "2023-01-24T17:07:27.980Z"
   },
   {
    "duration": 24,
    "start_time": "2023-01-24T17:07:28.448Z"
   },
   {
    "duration": 52,
    "start_time": "2023-01-24T17:17:11.488Z"
   },
   {
    "duration": 1174,
    "start_time": "2023-01-24T17:27:06.315Z"
   },
   {
    "duration": 120,
    "start_time": "2023-01-24T17:27:07.492Z"
   },
   {
    "duration": 51,
    "start_time": "2023-01-24T17:27:07.614Z"
   },
   {
    "duration": 5,
    "start_time": "2023-01-24T17:27:07.667Z"
   },
   {
    "duration": 25,
    "start_time": "2023-01-24T17:27:07.674Z"
   },
   {
    "duration": 18,
    "start_time": "2023-01-24T17:27:07.701Z"
   },
   {
    "duration": 12,
    "start_time": "2023-01-24T17:27:07.744Z"
   },
   {
    "duration": 8,
    "start_time": "2023-01-24T17:27:07.758Z"
   },
   {
    "duration": 534,
    "start_time": "2023-01-24T17:27:07.768Z"
   },
   {
    "duration": 202,
    "start_time": "2023-01-24T17:27:08.304Z"
   },
   {
    "duration": 364,
    "start_time": "2023-01-24T17:27:08.508Z"
   },
   {
    "duration": 199,
    "start_time": "2023-01-24T17:27:08.874Z"
   },
   {
    "duration": 299,
    "start_time": "2023-01-24T17:27:09.075Z"
   },
   {
    "duration": 149,
    "start_time": "2023-01-24T17:27:09.376Z"
   },
   {
    "duration": 5,
    "start_time": "2023-01-24T17:27:09.527Z"
   },
   {
    "duration": 199,
    "start_time": "2023-01-24T17:27:09.534Z"
   },
   {
    "duration": 253,
    "start_time": "2023-01-24T17:27:09.736Z"
   },
   {
    "duration": 6,
    "start_time": "2023-01-24T17:27:09.990Z"
   },
   {
    "duration": 217,
    "start_time": "2023-01-24T17:27:09.998Z"
   },
   {
    "duration": 159,
    "start_time": "2023-01-24T17:27:10.216Z"
   },
   {
    "duration": 14,
    "start_time": "2023-01-24T17:27:10.377Z"
   },
   {
    "duration": 16,
    "start_time": "2023-01-24T17:27:10.393Z"
   },
   {
    "duration": 62,
    "start_time": "2023-01-24T17:27:10.412Z"
   },
   {
    "duration": 19,
    "start_time": "2023-01-24T17:27:10.476Z"
   },
   {
    "duration": 67,
    "start_time": "2023-01-24T17:29:53.138Z"
   },
   {
    "duration": 1410,
    "start_time": "2023-03-15T06:13:34.573Z"
   },
   {
    "duration": 236,
    "start_time": "2023-03-15T06:13:35.985Z"
   },
   {
    "duration": 57,
    "start_time": "2023-03-15T06:13:36.223Z"
   },
   {
    "duration": 6,
    "start_time": "2023-03-15T06:13:36.282Z"
   },
   {
    "duration": 14,
    "start_time": "2023-03-15T06:13:36.290Z"
   },
   {
    "duration": 49,
    "start_time": "2023-03-15T06:13:36.305Z"
   },
   {
    "duration": 10,
    "start_time": "2023-03-15T06:13:36.355Z"
   },
   {
    "duration": 7,
    "start_time": "2023-03-15T06:13:36.367Z"
   },
   {
    "duration": 633,
    "start_time": "2023-03-15T06:13:36.376Z"
   },
   {
    "duration": 307,
    "start_time": "2023-03-15T06:13:37.013Z"
   },
   {
    "duration": 374,
    "start_time": "2023-03-15T06:13:37.322Z"
   },
   {
    "duration": 334,
    "start_time": "2023-03-15T06:13:37.698Z"
   },
   {
    "duration": 381,
    "start_time": "2023-03-15T06:13:38.034Z"
   },
   {
    "duration": 193,
    "start_time": "2023-03-15T06:13:38.418Z"
   },
   {
    "duration": 7,
    "start_time": "2023-03-15T06:13:38.613Z"
   },
   {
    "duration": 181,
    "start_time": "2023-03-15T06:13:38.623Z"
   },
   {
    "duration": 242,
    "start_time": "2023-03-15T06:13:38.805Z"
   },
   {
    "duration": 9,
    "start_time": "2023-03-15T06:13:39.049Z"
   },
   {
    "duration": 263,
    "start_time": "2023-03-15T06:13:39.060Z"
   },
   {
    "duration": 182,
    "start_time": "2023-03-15T06:13:39.325Z"
   },
   {
    "duration": 11,
    "start_time": "2023-03-15T06:13:39.510Z"
   },
   {
    "duration": 31,
    "start_time": "2023-03-15T06:13:39.524Z"
   },
   {
    "duration": 35,
    "start_time": "2023-03-15T06:13:39.557Z"
   },
   {
    "duration": 16,
    "start_time": "2023-03-15T06:13:39.594Z"
   }
  ],
  "kernelspec": {
   "display_name": "Python 3 (ipykernel)",
   "language": "python",
   "name": "python3"
  },
  "language_info": {
   "codemirror_mode": {
    "name": "ipython",
    "version": 3
   },
   "file_extension": ".py",
   "mimetype": "text/x-python",
   "name": "python",
   "nbconvert_exporter": "python",
   "pygments_lexer": "ipython3",
   "version": "3.9.12"
  },
  "toc": {
   "base_numbering": 1,
   "nav_menu": {},
   "number_sections": false,
   "sideBar": true,
   "skip_h1_title": false,
   "title_cell": "Table of Contents",
   "title_sidebar": "Contents",
   "toc_cell": false,
   "toc_position": {
    "height": "calc(100% - 180px)",
    "left": "10px",
    "top": "150px",
    "width": "246.244px"
   },
   "toc_section_display": true,
   "toc_window_display": true
  }
 },
 "nbformat": 4,
 "nbformat_minor": 5
}
