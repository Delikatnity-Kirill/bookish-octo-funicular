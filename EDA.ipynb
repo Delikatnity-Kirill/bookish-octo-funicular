{
 "cells": [
  {
   "cell_type": "markdown",
   "metadata": {},
   "source": [
    "**Исследование объявлений о продаже квартир**\n",
    "\n",
    "В нашем распоряжении данные сервиса Яндекс.Недвижимость — архив объявлений о продаже квартир в Санкт-Петербурге и соседних населённых пунктов за несколько лет. Нужно научиться определять рыночную стоимость объектов недвижимости. \n",
    "\n",
    "\n",
    "\n",
    "**Задача:**\n",
    "Установить параметры, определяющие рыночную стоимость объектов недвижимости. Это позволит построить автоматизированную систему, отслеживающую аномалии и мошенническую деятельность.\n",
    "\n",
    "**Ход работы:**\n",
    "\n",
    "- [1. Обзор данных](#Обзор_данных)\n",
    "- [2. Предобработка данных:](#Предобработка_данных)\n",
    "  - [приведем типы данных к нужному формату;](#тип)\n",
    "  - [обработаем пропуски;](#пропуски)\n",
    "  - [добавим новые столбцы;](#столбцы)\n",
    "- [3. Исследовательский анализ данных:](#анализ)\n",
    "  - [посмотрим распределение параметров;](#распределение)\n",
    "  - [посмотрим когда чаще всего покупают квартиры;](#покупают)\n",
    "  - [посмотрим как быстро продавались квартиры;](#продавались)\n",
    "  - [посмотрим факторы влияющие на стоимость объекта;](#факторы)\n",
    "  - [найдем среднию цену одного квадратного метра в 10 населённых пунктах с наибольшим числом объявлений;](#Найдем)\n",
    "  - [посмотрим влияние расстояния до центра горада на стоимость квартиры;](#расстояния)\n",
    "- [4. Общий вывод:](#Общий_вывод)  \n",
    "\n",
    "**Описание данных:**\n",
    "- airports_nearest — расстояние до ближайшего аэропорта в метрах (м)\n",
    "- balcony — число балконов\n",
    "- ceiling_height — высота потолков (м)\n",
    "- cityCenters_nearest — расстояние до центра города (м)\n",
    "- days_exposition — сколько дней было размещено объявление (от публикации до снятия)\n",
    "- first_day_exposition — дата публикации\n",
    "- floor — этаж\n",
    "- floors_total — всего этажей в доме\n",
    "- is_apartment — апартаменты (булев тип)\n",
    "- kitchen_area — площадь кухни в квадратных метрах (м²)\n",
    "- last_price — цена на момент снятия с публикации\n",
    "- living_area — жилая площадь в квадратных метрах (м²)\n",
    "- locality_name — название населённого пункта\n",
    "- open_plan — свободная планировка (булев тип)\n",
    "- parks_around3000 — число парков в радиусе 3 км\n",
    "- parks_nearest — расстояние до ближайшего парка (м)\n",
    "- ponds_around3000 — число водоёмов в радиусе 3 км\n",
    "- ponds_nearest — расстояние до ближайшего водоёма (м)\n",
    "- rooms — число комнат\n",
    "- studio — квартира-студия (булев тип)\n",
    "- total_area — площадь квартиры в квадратных метрах (м²)\n",
    "- total_images — число фотографий квартиры в объявлении\n"
   ]
  },
  {
   "cell_type": "markdown",
   "metadata": {},
   "source": [
    "<a name=\"Обзор_данных\"></a>\n",
    "\n",
    "# 1. Обзор данных"
   ]
  },
  {
   "cell_type": "code",
   "execution_count": 1,
   "metadata": {
    "scrolled": false
   },
   "outputs": [],
   "source": [
    "import pandas as pd\n",
    "\n",
    "import matplotlib.pyplot as plt\n",
    "\n",
    "import seaborn as sns\n",
    "\n",
    "try:\n",
    "    data = pd.read_csv('/datasets/real_estate_data.csv', sep='\\t')\n",
    "except:\n",
    "    data = pd.read_csv('real_estate_data.csv', sep='\\t')\n"
   ]
  },
  {
   "cell_type": "code",
   "execution_count": 2,
   "metadata": {},
   "outputs": [
    {
     "name": "stdout",
     "output_type": "stream",
     "text": [
      "Дубликатов: 0\n"
     ]
    },
    {
     "data": {
      "text/html": [
       "<div>\n",
       "<style scoped>\n",
       "    .dataframe tbody tr th:only-of-type {\n",
       "        vertical-align: middle;\n",
       "    }\n",
       "\n",
       "    .dataframe tbody tr th {\n",
       "        vertical-align: top;\n",
       "    }\n",
       "\n",
       "    .dataframe thead th {\n",
       "        text-align: right;\n",
       "    }\n",
       "</style>\n",
       "<table border=\"1\" class=\"dataframe\">\n",
       "  <thead>\n",
       "    <tr style=\"text-align: right;\">\n",
       "      <th></th>\n",
       "      <th>total_images</th>\n",
       "      <th>last_price</th>\n",
       "      <th>total_area</th>\n",
       "      <th>first_day_exposition</th>\n",
       "      <th>rooms</th>\n",
       "      <th>ceiling_height</th>\n",
       "      <th>floors_total</th>\n",
       "      <th>living_area</th>\n",
       "      <th>floor</th>\n",
       "      <th>is_apartment</th>\n",
       "      <th>...</th>\n",
       "      <th>kitchen_area</th>\n",
       "      <th>balcony</th>\n",
       "      <th>locality_name</th>\n",
       "      <th>airports_nearest</th>\n",
       "      <th>cityCenters_nearest</th>\n",
       "      <th>parks_around3000</th>\n",
       "      <th>parks_nearest</th>\n",
       "      <th>ponds_around3000</th>\n",
       "      <th>ponds_nearest</th>\n",
       "      <th>days_exposition</th>\n",
       "    </tr>\n",
       "  </thead>\n",
       "  <tbody>\n",
       "    <tr>\n",
       "      <th>0</th>\n",
       "      <td>20</td>\n",
       "      <td>13000000.0</td>\n",
       "      <td>108.0</td>\n",
       "      <td>2019-03-07T00:00:00</td>\n",
       "      <td>3</td>\n",
       "      <td>2.70</td>\n",
       "      <td>16.0</td>\n",
       "      <td>51.0</td>\n",
       "      <td>8</td>\n",
       "      <td>NaN</td>\n",
       "      <td>...</td>\n",
       "      <td>25.0</td>\n",
       "      <td>NaN</td>\n",
       "      <td>Санкт-Петербург</td>\n",
       "      <td>18863.0</td>\n",
       "      <td>16028.0</td>\n",
       "      <td>1.0</td>\n",
       "      <td>482.0</td>\n",
       "      <td>2.0</td>\n",
       "      <td>755.0</td>\n",
       "      <td>NaN</td>\n",
       "    </tr>\n",
       "    <tr>\n",
       "      <th>1</th>\n",
       "      <td>7</td>\n",
       "      <td>3350000.0</td>\n",
       "      <td>40.4</td>\n",
       "      <td>2018-12-04T00:00:00</td>\n",
       "      <td>1</td>\n",
       "      <td>NaN</td>\n",
       "      <td>11.0</td>\n",
       "      <td>18.6</td>\n",
       "      <td>1</td>\n",
       "      <td>NaN</td>\n",
       "      <td>...</td>\n",
       "      <td>11.0</td>\n",
       "      <td>2.0</td>\n",
       "      <td>посёлок Шушары</td>\n",
       "      <td>12817.0</td>\n",
       "      <td>18603.0</td>\n",
       "      <td>0.0</td>\n",
       "      <td>NaN</td>\n",
       "      <td>0.0</td>\n",
       "      <td>NaN</td>\n",
       "      <td>81.0</td>\n",
       "    </tr>\n",
       "    <tr>\n",
       "      <th>2</th>\n",
       "      <td>10</td>\n",
       "      <td>5196000.0</td>\n",
       "      <td>56.0</td>\n",
       "      <td>2015-08-20T00:00:00</td>\n",
       "      <td>2</td>\n",
       "      <td>NaN</td>\n",
       "      <td>5.0</td>\n",
       "      <td>34.3</td>\n",
       "      <td>4</td>\n",
       "      <td>NaN</td>\n",
       "      <td>...</td>\n",
       "      <td>8.3</td>\n",
       "      <td>0.0</td>\n",
       "      <td>Санкт-Петербург</td>\n",
       "      <td>21741.0</td>\n",
       "      <td>13933.0</td>\n",
       "      <td>1.0</td>\n",
       "      <td>90.0</td>\n",
       "      <td>2.0</td>\n",
       "      <td>574.0</td>\n",
       "      <td>558.0</td>\n",
       "    </tr>\n",
       "    <tr>\n",
       "      <th>3</th>\n",
       "      <td>0</td>\n",
       "      <td>64900000.0</td>\n",
       "      <td>159.0</td>\n",
       "      <td>2015-07-24T00:00:00</td>\n",
       "      <td>3</td>\n",
       "      <td>NaN</td>\n",
       "      <td>14.0</td>\n",
       "      <td>NaN</td>\n",
       "      <td>9</td>\n",
       "      <td>NaN</td>\n",
       "      <td>...</td>\n",
       "      <td>NaN</td>\n",
       "      <td>0.0</td>\n",
       "      <td>Санкт-Петербург</td>\n",
       "      <td>28098.0</td>\n",
       "      <td>6800.0</td>\n",
       "      <td>2.0</td>\n",
       "      <td>84.0</td>\n",
       "      <td>3.0</td>\n",
       "      <td>234.0</td>\n",
       "      <td>424.0</td>\n",
       "    </tr>\n",
       "    <tr>\n",
       "      <th>4</th>\n",
       "      <td>2</td>\n",
       "      <td>10000000.0</td>\n",
       "      <td>100.0</td>\n",
       "      <td>2018-06-19T00:00:00</td>\n",
       "      <td>2</td>\n",
       "      <td>3.03</td>\n",
       "      <td>14.0</td>\n",
       "      <td>32.0</td>\n",
       "      <td>13</td>\n",
       "      <td>NaN</td>\n",
       "      <td>...</td>\n",
       "      <td>41.0</td>\n",
       "      <td>NaN</td>\n",
       "      <td>Санкт-Петербург</td>\n",
       "      <td>31856.0</td>\n",
       "      <td>8098.0</td>\n",
       "      <td>2.0</td>\n",
       "      <td>112.0</td>\n",
       "      <td>1.0</td>\n",
       "      <td>48.0</td>\n",
       "      <td>121.0</td>\n",
       "    </tr>\n",
       "  </tbody>\n",
       "</table>\n",
       "<p>5 rows × 22 columns</p>\n",
       "</div>"
      ],
      "text/plain": [
       "   total_images  last_price  total_area first_day_exposition  rooms  \\\n",
       "0            20  13000000.0       108.0  2019-03-07T00:00:00      3   \n",
       "1             7   3350000.0        40.4  2018-12-04T00:00:00      1   \n",
       "2            10   5196000.0        56.0  2015-08-20T00:00:00      2   \n",
       "3             0  64900000.0       159.0  2015-07-24T00:00:00      3   \n",
       "4             2  10000000.0       100.0  2018-06-19T00:00:00      2   \n",
       "\n",
       "   ceiling_height  floors_total  living_area  floor is_apartment  ...  \\\n",
       "0            2.70          16.0         51.0      8          NaN  ...   \n",
       "1             NaN          11.0         18.6      1          NaN  ...   \n",
       "2             NaN           5.0         34.3      4          NaN  ...   \n",
       "3             NaN          14.0          NaN      9          NaN  ...   \n",
       "4            3.03          14.0         32.0     13          NaN  ...   \n",
       "\n",
       "   kitchen_area  balcony    locality_name  airports_nearest  \\\n",
       "0          25.0      NaN  Санкт-Петербург           18863.0   \n",
       "1          11.0      2.0   посёлок Шушары           12817.0   \n",
       "2           8.3      0.0  Санкт-Петербург           21741.0   \n",
       "3           NaN      0.0  Санкт-Петербург           28098.0   \n",
       "4          41.0      NaN  Санкт-Петербург           31856.0   \n",
       "\n",
       "  cityCenters_nearest  parks_around3000  parks_nearest  ponds_around3000  \\\n",
       "0             16028.0               1.0          482.0               2.0   \n",
       "1             18603.0               0.0            NaN               0.0   \n",
       "2             13933.0               1.0           90.0               2.0   \n",
       "3              6800.0               2.0           84.0               3.0   \n",
       "4              8098.0               2.0          112.0               1.0   \n",
       "\n",
       "   ponds_nearest  days_exposition  \n",
       "0          755.0              NaN  \n",
       "1            NaN             81.0  \n",
       "2          574.0            558.0  \n",
       "3          234.0            424.0  \n",
       "4           48.0            121.0  \n",
       "\n",
       "[5 rows x 22 columns]"
      ]
     },
     "metadata": {},
     "output_type": "display_data"
    },
    {
     "name": "stdout",
     "output_type": "stream",
     "text": [
      "<class 'pandas.core.frame.DataFrame'>\n",
      "RangeIndex: 23699 entries, 0 to 23698\n",
      "Data columns (total 22 columns):\n",
      " #   Column                Non-Null Count  Dtype  \n",
      "---  ------                --------------  -----  \n",
      " 0   total_images          23699 non-null  int64  \n",
      " 1   last_price            23699 non-null  float64\n",
      " 2   total_area            23699 non-null  float64\n",
      " 3   first_day_exposition  23699 non-null  object \n",
      " 4   rooms                 23699 non-null  int64  \n",
      " 5   ceiling_height        14504 non-null  float64\n",
      " 6   floors_total          23613 non-null  float64\n",
      " 7   living_area           21796 non-null  float64\n",
      " 8   floor                 23699 non-null  int64  \n",
      " 9   is_apartment          2775 non-null   object \n",
      " 10  studio                23699 non-null  bool   \n",
      " 11  open_plan             23699 non-null  bool   \n",
      " 12  kitchen_area          21421 non-null  float64\n",
      " 13  balcony               12180 non-null  float64\n",
      " 14  locality_name         23650 non-null  object \n",
      " 15  airports_nearest      18157 non-null  float64\n",
      " 16  cityCenters_nearest   18180 non-null  float64\n",
      " 17  parks_around3000      18181 non-null  float64\n",
      " 18  parks_nearest         8079 non-null   float64\n",
      " 19  ponds_around3000      18181 non-null  float64\n",
      " 20  ponds_nearest         9110 non-null   float64\n",
      " 21  days_exposition       20518 non-null  float64\n",
      "dtypes: bool(2), float64(14), int64(3), object(3)\n",
      "memory usage: 3.7+ MB\n"
     ]
    },
    {
     "data": {
      "text/plain": [
       "None"
      ]
     },
     "metadata": {},
     "output_type": "display_data"
    },
    {
     "data": {
      "text/plain": [
       "total_images                0\n",
       "last_price                  0\n",
       "total_area                  0\n",
       "first_day_exposition        0\n",
       "rooms                       0\n",
       "ceiling_height           9195\n",
       "floors_total               86\n",
       "living_area              1903\n",
       "floor                       0\n",
       "is_apartment            20924\n",
       "studio                      0\n",
       "open_plan                   0\n",
       "kitchen_area             2278\n",
       "balcony                 11519\n",
       "locality_name              49\n",
       "airports_nearest         5542\n",
       "cityCenters_nearest      5519\n",
       "parks_around3000         5518\n",
       "parks_nearest           15620\n",
       "ponds_around3000         5518\n",
       "ponds_nearest           14589\n",
       "days_exposition          3181\n",
       "dtype: int64"
      ]
     },
     "metadata": {},
     "output_type": "display_data"
    }
   ],
   "source": [
    "for i in [data]:\n",
    "    print('Дубликатов:' , i.duplicated().sum())\n",
    "    display(i.head())\n",
    "    display(i.info())\n",
    "    display(i.isna().sum())"
   ]
  },
  {
   "cell_type": "markdown",
   "metadata": {},
   "source": [
    "<a name=\"Предобработка_данных\"></a>\n",
    "# 2. Предобработка данных\n",
    "\n"
   ]
  },
  {
   "cell_type": "markdown",
   "metadata": {},
   "source": [
    "<a name=\"тип\"></a>\n",
    "**Приведем типы данных к нужному формату**\n"
   ]
  },
  {
   "cell_type": "markdown",
   "metadata": {},
   "source": [
    "Переводим столбец с датами в формат datetime без времени, т.к. время в исследовании не понадобится."
   ]
  },
  {
   "cell_type": "code",
   "execution_count": 3,
   "metadata": {},
   "outputs": [],
   "source": [
    "data['first_day_exposition'] = pd.to_datetime(data['first_day_exposition'], format ='%Y-%m-%d')"
   ]
  },
  {
   "cell_type": "markdown",
   "metadata": {},
   "source": [
    "В колонке с ценами меняем тип данных на int"
   ]
  },
  {
   "cell_type": "code",
   "execution_count": 4,
   "metadata": {},
   "outputs": [],
   "source": [
    "data['last_price'] = data['last_price'].astype('int64')"
   ]
  },
  {
   "cell_type": "markdown",
   "metadata": {},
   "source": [
    "Можем предположить, если в обьявление не указано, что квартира \"апартаменты\", то она ей не является. Тип данных меняем на bool"
   ]
  },
  {
   "cell_type": "code",
   "execution_count": 5,
   "metadata": {},
   "outputs": [],
   "source": [
    "data['is_apartment'] = data['is_apartment'].fillna(False)"
   ]
  },
  {
   "cell_type": "markdown",
   "metadata": {},
   "source": [
    "Ситуация аналогичена апартаментам, заменим пропуски на 0 и изменим тип данных на int"
   ]
  },
  {
   "cell_type": "code",
   "execution_count": 6,
   "metadata": {},
   "outputs": [],
   "source": [
    "data['balcony'] = data['balcony'].fillna(0).astype('int')"
   ]
  },
  {
   "cell_type": "markdown",
   "metadata": {},
   "source": [
    "Заменяем пропущенные значения на 0, меняем тип данных на int"
   ]
  },
  {
   "cell_type": "code",
   "execution_count": 7,
   "metadata": {},
   "outputs": [],
   "source": [
    "data['parks_around3000'] = data['parks_around3000'].fillna(0).astype('int64')"
   ]
  },
  {
   "cell_type": "markdown",
   "metadata": {},
   "source": [
    "Заменяем пропущенные значения на 0, меняем тип данных на int"
   ]
  },
  {
   "cell_type": "code",
   "execution_count": 8,
   "metadata": {},
   "outputs": [],
   "source": [
    "data['ponds_around3000'] = data['ponds_around3000'].fillna(0).astype('int64')"
   ]
  },
  {
   "cell_type": "code",
   "execution_count": 9,
   "metadata": {},
   "outputs": [],
   "source": [
    "data.loc[~data['days_exposition'].isna(), 'days_exposition'] = data.loc[~data['days_exposition'].isna(), 'days_exposition'].astype('int64')\n"
   ]
  },
  {
   "cell_type": "markdown",
   "metadata": {},
   "source": [
    "<a name=\"пропуски\"></a>\n",
    "**Обработаем пропуски**"
   ]
  },
  {
   "cell_type": "markdown",
   "metadata": {},
   "source": [
    "Кол-во строк с пропуском в floors_total - 86, т.к. это не отразится на корректности полученных данных по результату \n",
    "исследования - удаляем + заменяем тип данных на int"
   ]
  },
  {
   "cell_type": "code",
   "execution_count": 10,
   "metadata": {},
   "outputs": [],
   "source": [
    "data = data.dropna(subset=['floors_total', 'locality_name']).reset_index(drop=True)\n",
    "\n",
    "data['floors_total'] = data['floors_total'].astype('int64')"
   ]
  },
  {
   "cell_type": "markdown",
   "metadata": {},
   "source": [
    "Заполним пропуски в 'ceiling_height' медианой по домам одинаковой этажности."
   ]
  },
  {
   "cell_type": "code",
   "execution_count": 11,
   "metadata": {},
   "outputs": [],
   "source": [
    "for index in data['floors_total'].unique():\n",
    "    data.loc[(data['floors_total'] == index) & (data['ceiling_height'].isna()), 'ceiling_height'] = \\\n",
    "    data.loc[(data['floors_total'] == index), 'ceiling_height'].median()"
   ]
  },
  {
   "cell_type": "markdown",
   "metadata": {},
   "source": [
    "Удалим квартиры со слишком низкими потолками и слишком высокими (129 строк)"
   ]
  },
  {
   "cell_type": "code",
   "execution_count": 12,
   "metadata": {},
   "outputs": [],
   "source": [
    "data.query('ceiling_height <= 2 or ceiling_height >= 4')['ceiling_height'].count()\n",
    "data = data.query('ceiling_height >= 2 and ceiling_height <= 4')"
   ]
  },
  {
   "cell_type": "markdown",
   "metadata": {},
   "source": [
    "Удалим все слова, ничинающиеся со строчных буква, таким образом оставим только название населенных пунктов\n",
    "\n",
    "\n"
   ]
  },
  {
   "cell_type": "code",
   "execution_count": 13,
   "metadata": {},
   "outputs": [
    {
     "data": {
      "text/plain": [
       "0"
      ]
     },
     "execution_count": 13,
     "metadata": {},
     "output_type": "execute_result"
    }
   ],
   "source": [
    "# удалим все слова, ничинающиеся со строчных буква, таким образом оставим только название населенных пунктов \n",
    "for word in data['locality_name']:\n",
    "    word_list = word.split()\n",
    "    big_letters = []\n",
    "    for letter in word_list:\n",
    "        if not letter.islower():\n",
    "            big_letters.append(letter)\n",
    "            new_word = ''.join(big_letters)\n",
    "    data.loc[data['locality_name'] ==  word, 'locality_name'] = new_word\n",
    "    \n",
    "data.duplicated().sum()"
   ]
  },
  {
   "cell_type": "markdown",
   "metadata": {},
   "source": [
    "<a name=\"столбцы\"></a>\n",
    "**Добавим новые столбцы**\n"
   ]
  },
  {
   "cell_type": "markdown",
   "metadata": {},
   "source": [
    "Добавим колонку с ценой за квадратный метр"
   ]
  },
  {
   "cell_type": "code",
   "execution_count": 14,
   "metadata": {},
   "outputs": [],
   "source": [
    "data['price_per_square_meter'] = data['last_price'] / data['total_area']\n",
    "data['price_per_square_meter'] = data['price_per_square_meter'].astype('int64')"
   ]
  },
  {
   "cell_type": "markdown",
   "metadata": {},
   "source": [
    "Добавим колонку с днем недели публикации объявления"
   ]
  },
  {
   "cell_type": "code",
   "execution_count": 15,
   "metadata": {},
   "outputs": [],
   "source": [
    "data['weekday'] = data['first_day_exposition'].dt.weekday"
   ]
  },
  {
   "cell_type": "markdown",
   "metadata": {},
   "source": [
    "Добавим колонку c месяцем публикации объявления"
   ]
  },
  {
   "cell_type": "code",
   "execution_count": 16,
   "metadata": {},
   "outputs": [],
   "source": [
    "data['month'] = data['first_day_exposition'].dt.month"
   ]
  },
  {
   "cell_type": "markdown",
   "metadata": {},
   "source": [
    "Добавим колонку c годом публикации объявления"
   ]
  },
  {
   "cell_type": "code",
   "execution_count": 17,
   "metadata": {},
   "outputs": [],
   "source": [
    "data['year'] = data['first_day_exposition'].dt.year"
   ]
  },
  {
   "cell_type": "markdown",
   "metadata": {},
   "source": [
    "Добавим тип этажа квартиры через функцию"
   ]
  },
  {
   "cell_type": "code",
   "execution_count": 18,
   "metadata": {},
   "outputs": [],
   "source": [
    "def floor_category (index):\n",
    "    if index['floor'] == 1:\n",
    "        return 'первый'\n",
    "    elif index['floor'] == index['floors_total']:\n",
    "        return 'последний'\n",
    "    else:\n",
    "        return 'другой'\n",
    "\n",
    "data['floor_type'] = data.apply(floor_category, axis=1)"
   ]
  },
  {
   "cell_type": "markdown",
   "metadata": {},
   "source": [
    "Добавим расстояние в км до центра"
   ]
  },
  {
   "cell_type": "code",
   "execution_count": 19,
   "metadata": {},
   "outputs": [],
   "source": [
    "data['cityCenters_nearest_km'] = data['cityCenters_nearest'] / 1000\n",
    "data.loc[~data['cityCenters_nearest_km'].isna(), 'cityCenters_nearest_km'] = data.loc[~data['cityCenters_nearest_km'].isna(), 'cityCenters_nearest_km'].astype('int64')"
   ]
  },
  {
   "cell_type": "code",
   "execution_count": null,
   "metadata": {},
   "outputs": [],
   "source": []
  },
  {
   "cell_type": "markdown",
   "metadata": {},
   "source": [
    "<a name=\"вывод1\"></a>\n",
    "**Вывод:**\n",
    "\n",
    "1. last_price - сменим тип данных на 'int' нас интересуют целые значения, значения после запятой не повлияют на исследование.\n",
    "2. first_day_exposition - сменим тип данных 'на datetime' без времени, т.к. время не указано.\n",
    "3. ceiling_height - много пропущенных значений. Заменим медианой по домам одинаковой этажности. \n",
    "4. floors_total - 86 пропущенных значений, т.к. не повлияет на исследование - удалим строки, в которых не заполнена этажность. Заменим тип данных на 'int', удалим строки, в которых не заполнена этажность\n",
    "5. living_area - много пропущенных значений, причина не понятна. Удалять записи или вытаться заполнить не будем  \n",
    "6. is_apartment - много пропущенных значений, вероятно те, у кого квартира не апартамент - пропускали этот пункт. Заполнил все пропущенные значения False, тип данных сменим на 'bool'\n",
    "7. kitchen_area - много пропущенных значений, причина не понятна. Удалять записи или вытаться заполнить не будем  \n",
    "8. balcony - исходим из того, что, если у владельца квартиры нет балкона - он пропускает пунскт, пропущенные значения заменим на '0'. Сменим тип данных на 'int', \n",
    "9. locality_name - есть пропущенные значения, причина неизвестна\n",
    "10. airports_nearest - есть пропущенные значения, причина неизвестна\n",
    "11. cityCenters_nearest - есть пропущенные значения, причина неизвестна\n",
    "12. parks_around3000 - много пропущенных значений, вороятно причина аналогична балконам, нет парка - пропускает пункт. Пропущенные значения заменим на '0'. Сменим тип данных на 'int', \n",
    "13. parks_nearest - есть пропущенные значения, причина неизвестна\n",
    "14. ponds_around3000 - много пропущенных значений, вореятно причина аналогична балконам, нет парка - пропускает пункт. Пропущенные значения заменим на '0'. Сменим тип данных на 'int',\n",
    "15. ponds_nearest - есть пропущенные значения, причина неизвестна\n",
    "16. days_exposition - есть пропущенные значения, причина неизвестна. Можем предположить, что на момент сбора, квартира все еще была в продаже или владелец не сменил статус на 'продано'. Сменим тип на int\n",
    "\n",
    "Учитывая приблизительно одинаковое кол-во пропусков в \"parks_around3000\", \"ponds_around3000\" и \"parks_nearest\", \"ponds_nearest\", можем предположить, что эти пункты появлись позже.\n",
    "Мы удалили все слова, ничинающиеся со строчных букв, таким образом оставим только название населенных пунктов \n",
    "\n",
    "Также проверили, есть ли явные дубликаты"
   ]
  },
  {
   "cell_type": "markdown",
   "metadata": {},
   "source": [
    "<a name=\"анализ\"></a>\n",
    "# 2. Исследовательский анализ данных"
   ]
  },
  {
   "cell_type": "markdown",
   "metadata": {},
   "source": [
    "<a name=\"распределение\"></a>\n",
    "**Посмотрим распределение по метражу, цене, кол-ва комнат, высоте потолков**"
   ]
  },
  {
   "cell_type": "code",
   "execution_count": 20,
   "metadata": {
    "scrolled": false
   },
   "outputs": [
    {
     "data": {
      "image/png": "[encoded data removed]",
      "text/plain": [
       "<Figure size 432x288 with 1 Axes>"
      ]
     },
     "metadata": {
      "needs_background": "light"
     },
     "output_type": "display_data"
    },
    {
     "data": {
      "image/png": "[encoded data removed]",
      "text/plain": [
       "<Figure size 432x288 with 1 Axes>"
      ]
     },
     "metadata": {
      "needs_background": "light"
     },
     "output_type": "display_data"
    }
   ],
   "source": [
    "data.hist('total_area', bins= 50, range=(10, 100))\n",
    "plt.title(\"Площадь квартир\")\n",
    "plt.xlabel(\"м²\")\n",
    "plt.ylabel(\"Кол-во квартир\")\n",
    "plt.show()\n",
    "\n",
    "plt.ylim(0, 200)\n",
    "data.boxplot(column='total_area')\n",
    "plt.show()"
   ]
  },
  {
   "cell_type": "code",
   "execution_count": 21,
   "metadata": {},
   "outputs": [
    {
     "data": {
      "image/png": "[encoded data removed]",
      "text/plain": [
       "<Figure size 432x288 with 1 Axes>"
      ]
     },
     "metadata": {
      "needs_background": "light"
     },
     "output_type": "display_data"
    },
    {
     "data": {
      "image/png": "[encoded data removed]",
      "text/plain": [
       "<Figure size 432x288 with 1 Axes>"
      ]
     },
     "metadata": {
      "needs_background": "light"
     },
     "output_type": "display_data"
    },
    {
     "data": {
      "text/plain": [
       "count    21626.000000\n",
       "mean        34.349622\n",
       "std         21.666366\n",
       "min          2.000000\n",
       "25%         18.600000\n",
       "50%         30.000000\n",
       "75%         42.200000\n",
       "max        409.700000\n",
       "Name: living_area, dtype: float64"
      ]
     },
     "execution_count": 21,
     "metadata": {},
     "output_type": "execute_result"
    }
   ],
   "source": [
    "data.hist('living_area', bins= 40, range=(10, 85))\n",
    "plt.title(\"Жилая площадь\")\n",
    "plt.xlabel(\"м²\")\n",
    "plt.ylabel(\"Кол-во квартир\")\n",
    "plt.show()\n",
    "\n",
    "plt.ylim(0, 200)\n",
    "data.boxplot(column='living_area')\n",
    "plt.show()\n",
    "\n",
    "data['living_area'].describe()\n",
    "\n"
   ]
  },
  {
   "cell_type": "code",
   "execution_count": 22,
   "metadata": {
    "scrolled": false
   },
   "outputs": [
    {
     "data": {
      "image/png": "[encoded data removed]",
      "text/plain": [
       "<Figure size 432x288 with 1 Axes>"
      ]
     },
     "metadata": {
      "needs_background": "light"
     },
     "output_type": "display_data"
    },
    {
     "data": {
      "image/png": "[encoded data removed]",
      "text/plain": [
       "<Figure size 432x288 with 1 Axes>"
      ]
     },
     "metadata": {
      "needs_background": "light"
     },
     "output_type": "display_data"
    },
    {
     "data": {
      "text/plain": [
       "count    21626.000000\n",
       "mean        34.349622\n",
       "std         21.666366\n",
       "min          2.000000\n",
       "25%         18.600000\n",
       "50%         30.000000\n",
       "75%         42.200000\n",
       "max        409.700000\n",
       "Name: living_area, dtype: float64"
      ]
     },
     "execution_count": 22,
     "metadata": {},
     "output_type": "execute_result"
    }
   ],
   "source": [
    "data.hist('kitchen_area', bins= 15, range=(5, 30))\n",
    "plt.title(\"Площадь кухни\")\n",
    "plt.xlabel(\"м²\")\n",
    "plt.ylabel(\"Кол-во квартир\")\n",
    "plt.show()\n",
    "\n",
    "plt.ylim(0, 200)\n",
    "data.boxplot(column='living_area')\n",
    "plt.show()\n",
    "\n",
    "data['living_area'].describe()"
   ]
  },
  {
   "cell_type": "code",
   "execution_count": 23,
   "metadata": {},
   "outputs": [
    {
     "data": {
      "image/png": "[encoded data removed]",
      "text/plain": [
       "<Figure size 432x288 with 1 Axes>"
      ]
     },
     "metadata": {
      "needs_background": "light"
     },
     "output_type": "display_data"
    },
    {
     "data": {
      "image/png": "[encoded data removed]",
      "text/plain": [
       "<Figure size 432x288 with 1 Axes>"
      ]
     },
     "metadata": {
      "needs_background": "light"
     },
     "output_type": "display_data"
    },
    {
     "data": {
      "text/plain": [
       "count      23485.00000\n",
       "mean       99241.16628\n",
       "std        49860.94000\n",
       "min          111.00000\n",
       "25%        76562.00000\n",
       "50%        94965.00000\n",
       "75%       114114.00000\n",
       "max      1907500.00000\n",
       "Name: price_per_square_meter, dtype: object"
      ]
     },
     "execution_count": 23,
     "metadata": {},
     "output_type": "execute_result"
    }
   ],
   "source": [
    "data.hist('price_per_square_meter', bins= 60, range=(15000, 250000))\n",
    "plt.title(\"Цена м²\")\n",
    "plt.xlabel(\"руб. за м²\")\n",
    "plt.ylabel(\"Кол-во квартир\")\n",
    "plt.show()\n",
    "\n",
    "plt.ylim(0, 250000)\n",
    "data.boxplot(column='price_per_square_meter')\n",
    "plt.show()\n",
    "\n",
    "data['price_per_square_meter'].describe().apply(\"{0:.5f}\".format)"
   ]
  },
  {
   "cell_type": "markdown",
   "metadata": {},
   "source": [
    "1) Наибольшее число квартир выставляются на продажу с метражом от 25 до 100 метров. \n",
    "Встречаются обьясвления с аномально большим маленьким маленьким метражом, однако остальные параметры соответвуют их площади, нет оснований считать их вбросами.\n",
    "\n",
    "2) Наимболее распространенный метраж жилой площади находится в районе 10 - 50 метров. \n",
    "Есть несколько вершин, вероятно связано с кол-вом комнат, каждый пик показывает увеличение числа комнат и далее идёт на спад. Чем больше комнат - тем меньше вершина.\n",
    "\n",
    "3) Наимболее распространенный метраж кухонной площади находится в районе 5 - 15 метров. Кухни метражом 25+ метров встречаются крайне редко\n",
    "\n",
    "4) Наимболее распространенная цена в районе 75000 - 120000 руб. Есть как слишком высокая цена ( вероятно элитная недвижимость), так и маленькая, отосительно среней/медианы (вероятно деревня/село)\n"
   ]
  },
  {
   "cell_type": "code",
   "execution_count": 24,
   "metadata": {
    "scrolled": false
   },
   "outputs": [
    {
     "data": {
      "image/png": "[encoded data removed]",
      "text/plain": [
       "<Figure size 432x288 with 1 Axes>"
      ]
     },
     "metadata": {
      "needs_background": "light"
     },
     "output_type": "display_data"
    },
    {
     "data": {
      "image/png": "[encoded data removed]",
      "text/plain": [
       "<Figure size 432x288 with 1 Axes>"
      ]
     },
     "metadata": {
      "needs_background": "light"
     },
     "output_type": "display_data"
    },
    {
     "data": {
      "image/png": "[encoded data removed]",
      "text/plain": [
       "<Figure size 432x288 with 1 Axes>"
      ]
     },
     "metadata": {
      "needs_background": "light"
     },
     "output_type": "display_data"
    },
    {
     "data": {
      "image/png": "[encoded data removed]",
      "text/plain": [
       "<Figure size 432x288 with 1 Axes>"
      ]
     },
     "metadata": {
      "needs_background": "light"
     },
     "output_type": "display_data"
    },
    {
     "data": {
      "text/plain": [
       "count    23485.000000\n",
       "mean         2.704088\n",
       "std          0.219809\n",
       "min          2.000000\n",
       "25%          2.550000\n",
       "50%          2.650000\n",
       "75%          2.750000\n",
       "max          4.000000\n",
       "Name: ceiling_height, dtype: float64"
      ]
     },
     "execution_count": 24,
     "metadata": {},
     "output_type": "execute_result"
    }
   ],
   "source": [
    "data.hist('rooms', bins= 10, range=(1, 10))\n",
    "plt.title(\"Кол-во комнат\")\n",
    "plt.xlabel(\"Комнат\")\n",
    "plt.ylabel(\"Кол-во квартир\")\n",
    "plt.show()\n",
    "\n",
    "plt.ylim(0, 20)\n",
    "data.boxplot(column='rooms')\n",
    "plt.show()\n",
    "\n",
    "data['rooms'].describe()\n",
    "\n",
    "data.hist('ceiling_height', bins= 20, range=(2, 4))\n",
    "plt.title(\"Высота потолков\")\n",
    "plt.xlabel(\"Высота м.\")\n",
    "plt.ylabel(\"Кол-во квартир\")\n",
    "plt.show()\n",
    "\n",
    "plt.ylim(0, 4)\n",
    "data.boxplot(column='ceiling_height')\n",
    "plt.show()\n",
    "\n",
    "data['ceiling_height'].describe()\n",
    "\n",
    "\n"
   ]
  },
  {
   "cell_type": "markdown",
   "metadata": {},
   "source": [
    "1) Наиболее распространенное кол-во комнат в обьявлении 1-3, немного реже 5, далее идёт резкий спад\n",
    "\n",
    "2) Чаще всего встречается 2.5- 3м. высота потолков"
   ]
  },
  {
   "cell_type": "code",
   "execution_count": 25,
   "metadata": {
    "scrolled": false
   },
   "outputs": [
    {
     "data": {
      "image/png": "[encoded data removed]",
      "text/plain": [
       "<Figure size 432x288 with 1 Axes>"
      ]
     },
     "metadata": {
      "needs_background": "light"
     },
     "output_type": "display_data"
    },
    {
     "data": {
      "image/png": "[encoded data removed]",
      "text/plain": [
       "<Figure size 432x288 with 1 Axes>"
      ]
     },
     "metadata": {
      "needs_background": "light"
     },
     "output_type": "display_data"
    },
    {
     "data": {
      "image/png": "[encoded data removed]",
      "text/plain": [
       "<Figure size 432x288 with 1 Axes>"
      ]
     },
     "metadata": {
      "needs_background": "light"
     },
     "output_type": "display_data"
    },
    {
     "data": {
      "image/png": "[encoded data removed]",
      "text/plain": [
       "<Figure size 432x288 with 1 Axes>"
      ]
     },
     "metadata": {
      "needs_background": "light"
     },
     "output_type": "display_data"
    },
    {
     "data": {
      "image/png": "[encoded data removed]",
      "text/plain": [
       "<Figure size 432x288 with 1 Axes>"
      ]
     },
     "metadata": {
      "needs_background": "light"
     },
     "output_type": "display_data"
    },
    {
     "data": {
      "text/plain": [
       "count    23485.000000\n",
       "mean        10.684309\n",
       "std          6.588255\n",
       "min          1.000000\n",
       "25%          5.000000\n",
       "50%          9.000000\n",
       "75%         16.000000\n",
       "max         60.000000\n",
       "Name: floors_total, dtype: float64"
      ]
     },
     "execution_count": 25,
     "metadata": {},
     "output_type": "execute_result"
    }
   ],
   "source": [
    "data.hist('floor', bins= 20, range=(1, 20))\n",
    "plt.title(\"Этаж квартиры\")\n",
    "plt.xlabel(\"Этаж\")\n",
    "plt.ylabel(\"Кол-во квартир\")\n",
    "plt.show()\n",
    "\n",
    "plt.ylim(0, 20)\n",
    "data.boxplot(column='floor')\n",
    "plt.show()\n",
    "\n",
    "data['floor'].describe()\n",
    "\n",
    "sns.histplot(data=data, x='floor_type')\n",
    "plt.title(\"Тип этажа квартиры\")\n",
    "plt.xlabel(\"Тип\")\n",
    "plt.ylabel(\"Кол-во квартир\")\n",
    "plt.show()\n",
    "\n",
    "data.hist('floors_total', bins= 20, range=(1, 25))\n",
    "plt.title(\"Всего этажей в доме\")\n",
    "plt.xlabel(\"Этаж\")\n",
    "plt.ylabel(\"Кол-во квартир\")\n",
    "plt.show()\n",
    "\n",
    "plt.ylim(0, 20)\n",
    "data.boxplot(column='floors_total')\n",
    "plt.show()\n",
    "\n",
    "data['floors_total'].describe()\n"
   ]
  },
  {
   "cell_type": "markdown",
   "metadata": {},
   "source": [
    "1) Наоболее распространенные этажи в обьявления 1-5\n",
    "\n",
    "2) Первый и последний этажи квартиры встречаются приблизительно в равном кол-ве обьявлений\n",
    "\n",
    "3) Самые распространенные дома с 5, 9 и 25 этажами"
   ]
  },
  {
   "cell_type": "code",
   "execution_count": 26,
   "metadata": {
    "scrolled": false
   },
   "outputs": [
    {
     "data": {
      "image/png": "[encoded data removed]",
      "text/plain": [
       "<Figure size 432x288 with 1 Axes>"
      ]
     },
     "metadata": {
      "needs_background": "light"
     },
     "output_type": "display_data"
    },
    {
     "data": {
      "image/png": "[encoded data removed]",
      "text/plain": [
       "<Figure size 432x288 with 1 Axes>"
      ]
     },
     "metadata": {
      "needs_background": "light"
     },
     "output_type": "display_data"
    },
    {
     "data": {
      "image/png": "[encoded data removed]",
      "text/plain": [
       "<Figure size 432x288 with 1 Axes>"
      ]
     },
     "metadata": {
      "needs_background": "light"
     },
     "output_type": "display_data"
    },
    {
     "data": {
      "image/png": "[encoded data removed]",
      "text/plain": [
       "<Figure size 432x288 with 1 Axes>"
      ]
     },
     "metadata": {
      "needs_background": "light"
     },
     "output_type": "display_data"
    },
    {
     "data": {
      "image/png": "[encoded data removed]",
      "text/plain": [
       "<Figure size 432x288 with 1 Axes>"
      ]
     },
     "metadata": {
      "needs_background": "light"
     },
     "output_type": "display_data"
    },
    {
     "data": {
      "image/png": "[encoded data removed]",
      "text/plain": [
       "<Figure size 432x288 with 1 Axes>"
      ]
     },
     "metadata": {
      "needs_background": "light"
     },
     "output_type": "display_data"
    },
    {
     "data": {
      "text/plain": [
       "count    7992.000000\n",
       "mean      490.704204\n",
       "std       341.929560\n",
       "min         1.000000\n",
       "25%       288.000000\n",
       "50%       455.000000\n",
       "75%       612.000000\n",
       "max      3190.000000\n",
       "Name: parks_nearest, dtype: float64"
      ]
     },
     "execution_count": 26,
     "metadata": {},
     "output_type": "execute_result"
    }
   ],
   "source": [
    "data.hist('cityCenters_nearest', bins= 20, range=(0, 30000))\n",
    "plt.title(\"Расстояние до центра города\")\n",
    "plt.xlabel(\"Расстояние (м)\")\n",
    "plt.ylabel(\"Кол-во квартир\")\n",
    "plt.show()\n",
    "\n",
    "plt.ylim(0, 30000)\n",
    "data.boxplot(column='cityCenters_nearest')\n",
    "plt.show()\n",
    "\n",
    "data['cityCenters_nearest'].describe()\n",
    "\n",
    "data.hist('airports_nearest', bins= 20, range=(5000, 60000))\n",
    "plt.title(\"Расстояние до ближайщего аэропорта\")\n",
    "plt.xlabel(\"Расстояние (м)\")\n",
    "plt.ylabel(\"Кол-во квартир\")\n",
    "plt.show()\n",
    "\n",
    "plt.ylim(5000, 60000)\n",
    "data.boxplot(column='airports_nearest')\n",
    "plt.show()\n",
    "\n",
    "data['airports_nearest'].describe()\n",
    "\n",
    "\n",
    "data.hist('parks_nearest', bins= 20, range=(0, 1000))\n",
    "plt.title(\"Расстояние до ближайщего парка\")\n",
    "plt.xlabel(\"Расстояние (м)\")\n",
    "plt.ylabel(\"Кол-во квартир\")\n",
    "plt.show()\n",
    "\n",
    "plt.ylim(0, 1000)\n",
    "data.boxplot(column='parks_nearest')\n",
    "plt.show()\n",
    "\n",
    "data['parks_nearest'].describe()\n"
   ]
  },
  {
   "cell_type": "markdown",
   "metadata": {},
   "source": [
    "1) Наиболее распространенное расстояние в районе 5000 и 10000 - 17000 м.\n",
    "\n",
    "2) Наиболее распространенное расстояние в районе 10000 - 40000 м.\n",
    "\n",
    "3) Наиболее распространенное расстояние в районе 150 - 700 м."
   ]
  },
  {
   "cell_type": "markdown",
   "metadata": {},
   "source": [
    "<a name=\"покупают\"></a>\n",
    "**Посмотрим когда чаще всего покупают квартиры**"
   ]
  },
  {
   "cell_type": "code",
   "execution_count": 27,
   "metadata": {
    "scrolled": false
   },
   "outputs": [
    {
     "data": {
      "image/png": "[encoded data removed]",
      "text/plain": [
       "<Figure size 432x288 with 1 Axes>"
      ]
     },
     "metadata": {
      "needs_background": "light"
     },
     "output_type": "display_data"
    },
    {
     "data": {
      "image/png": "[encoded data removed]",
      "text/plain": [
       "<Figure size 432x288 with 1 Axes>"
      ]
     },
     "metadata": {
      "needs_background": "light"
     },
     "output_type": "display_data"
    }
   ],
   "source": [
    "data.hist('month', bins= 12, range=(1, 12))\n",
    "plt.title(\"Месяц продажи квартиры\")\n",
    "plt.xlabel(\"месяц\")\n",
    "plt.ylabel(\"Кол-во квартир\")\n",
    "plt.show()\n",
    "\n",
    "\n",
    "data.hist('weekday', bins= 7, range=(0, 7))\n",
    "plt.title(\"День продажи\")\n",
    "plt.xlabel(\"День недели\")\n",
    "plt.ylabel(\"Кол-во квартир\")\n",
    "plt.show()"
   ]
  },
  {
   "cell_type": "markdown",
   "metadata": {},
   "source": [
    "1) Чаще всего обьявления о продаже размещают в феврале, марте и апрелеле, наименьшее количество обьявления размещают в мае.\n",
    "\n",
    "2) В будние дни кол-во размещенных обьявлений примерно одинаковое, хотя в понедельник наблюдается небольшой спад. Виден резкий спад в выходные дни."
   ]
  },
  {
   "cell_type": "markdown",
   "metadata": {},
   "source": [
    "<a name=\"продавались\"></a>\n",
    "**Посмотрим как быстро продавались квартиры**"
   ]
  },
  {
   "cell_type": "code",
   "execution_count": 28,
   "metadata": {
    "scrolled": false
   },
   "outputs": [
    {
     "data": {
      "image/png": "[encoded data removed]",
      "text/plain": [
       "<Figure size 1080x720 with 1 Axes>"
      ]
     },
     "metadata": {
      "needs_background": "light"
     },
     "output_type": "display_data"
    }
   ],
   "source": [
    "data.hist('days_exposition', bins= 300, range=(0, 1000), figsize=(15, 10))\n",
    "plt.title(\"Скорость продажи квартиры\")\n",
    "plt.xlabel(\"Кол-во дней\")\n",
    "plt.ylabel(\"Кол-во квартир\")\n",
    "plt.show()\n",
    "\n",
    "\n",
    "\n",
    "\n",
    "\n"
   ]
  },
  {
   "cell_type": "markdown",
   "metadata": {},
   "source": [
    "есть вбросы, посмотрим конкретнее"
   ]
  },
  {
   "cell_type": "code",
   "execution_count": 29,
   "metadata": {},
   "outputs": [
    {
     "data": {
      "text/plain": [
       "45.0    879\n",
       "60.0    537\n",
       "7.0     233\n",
       "30.0    207\n",
       "90.0    200\n",
       "4.0     174\n",
       "3.0     157\n",
       "5.0     152\n",
       "14.0    145\n",
       "9.0     142\n",
       "Name: days_exposition, dtype: int64"
      ]
     },
     "execution_count": 29,
     "metadata": {},
     "output_type": "execute_result"
    }
   ],
   "source": [
    "data['days_exposition'].value_counts().sort_values(ascending=False).head(10)"
   ]
  },
  {
   "cell_type": "markdown",
   "metadata": {},
   "source": [
    "Можем сделать вывод:\n",
    "- Среднее время продажи квартиры 180 дней;\n",
    "- Медиана 95 дней.\n",
    "- быстрая продажа 45 дней;\n",
    "- медленная продажа 231 день.\n",
    "\n",
    "\n",
    "На гистограмме видно, что есть выбивающиеся значения, если расположить их в порядке возрастания, получим  7, 30, 45, 60, 90. Учитывая ровное кол-во дней, можно предположить, что обьявления платные, по истеченни времени - они закрываются или обьявления закрываются по истечении определенного времени в случае бездействия владельца квартиры. \n",
    "\n"
   ]
  },
  {
   "cell_type": "code",
   "execution_count": 30,
   "metadata": {
    "scrolled": false
   },
   "outputs": [
    {
     "data": {
      "image/png": "[encoded data removed]",
      "text/plain": [
       "<Figure size 1080x720 with 1 Axes>"
      ]
     },
     "metadata": {
      "needs_background": "light"
     },
     "output_type": "display_data"
    },
    {
     "data": {
      "image/png": "[encoded data removed]",
      "text/plain": [
       "<Figure size 432x288 with 1 Axes>"
      ]
     },
     "metadata": {
      "needs_background": "light"
     },
     "output_type": "display_data"
    },
    {
     "data": {
      "text/plain": [
       "count    18272.000000\n",
       "mean       195.476029\n",
       "std        226.549675\n",
       "min          1.000000\n",
       "25%         44.000000\n",
       "50%        113.000000\n",
       "75%        258.000000\n",
       "max       1580.000000\n",
       "Name: days_exposition, dtype: float64"
      ]
     },
     "execution_count": 30,
     "metadata": {},
     "output_type": "execute_result"
    }
   ],
   "source": [
    "data2 = data\n",
    "\n",
    "data2 = data2.query('days_exposition != 7 and days_exposition != 30 and days_exposition != 45 and days_exposition !=  60 and days_exposition != 90 and days_exposition != 10000')\n",
    "\n",
    "\n",
    "data2.hist('days_exposition', bins= 200, range=(0, 1000), figsize=(15, 10))\n",
    "plt.title(\"Скорость продажи квартиры\")\n",
    "plt.xlabel(\"Расстояние (м)\")\n",
    "plt.ylabel(\"Кол-во квартир\")\n",
    "plt.show()\n",
    "\n",
    "data2['days_exposition'].value_counts().sort_values(ascending=False).head(10)\n",
    "\n",
    "plt.ylim(0, 1000)\n",
    "data.boxplot(column='days_exposition')\n",
    "plt.show()\n",
    "\n",
    "data2['days_exposition'].describe()\n",
    "\n"
   ]
  },
  {
   "cell_type": "markdown",
   "metadata": {},
   "source": [
    "1. Среднее время продажи квартиры составляет 195 дней.\n",
    "2. Медианное время составляет 113 дней.\n",
    "3. Быстрой продажей можно считать квартиру проданную за 44 дня и меньше.\n",
    "4. Необычно долгим временем продажи можно считать квартиру проданную за 500+ дней.\n",
    "\n"
   ]
  },
  {
   "cell_type": "markdown",
   "metadata": {},
   "source": [
    "<a name=\"факторы\"></a>\n",
    "**Посмотрим факторы влияющие на стоимость объекта**"
   ]
  },
  {
   "cell_type": "markdown",
   "metadata": {},
   "source": [
    "Посмотрим зависимость цены от площади обьекта"
   ]
  },
  {
   "cell_type": "code",
   "execution_count": 31,
   "metadata": {
    "scrolled": false
   },
   "outputs": [
    {
     "name": "stdout",
     "output_type": "stream",
     "text": [
      "Коэфициэнт Пирсона: 0.65\n"
     ]
    },
    {
     "data": {
      "image/png": "[encoded data removed]",
      "text/plain": [
       "<Figure size 1080x504 with 1 Axes>"
      ]
     },
     "metadata": {
      "needs_background": "light"
     },
     "output_type": "display_data"
    }
   ],
   "source": [
    "price_per_square_meter = data.pivot_table(\n",
    "    index = 'total_area', values = 'last_price', aggfunc = ['mean', 'count', 'median'])\n",
    "price_per_square_meter.columns = ['mean', 'count', 'median']\n",
    "price_per_square_meter.sort_values(by='median', ascending = False)\n",
    "\n",
    "price_per_square_meter.plot(\n",
    "    y='median', style='o', grid=True, figsize=(15,7))\n",
    "plt.xlabel(\"Общая площадь\")\n",
    "plt.ylabel(\"Цена квартиры\")\n",
    "\n",
    "print('Коэфициэнт Пирсона:' , data['total_area'].corr(data['last_price']).round(2))"
   ]
  },
  {
   "cell_type": "markdown",
   "metadata": {},
   "source": [
    "Коэфициэнту коррелиции Пирсона равен 0.65. Делаем вывод, что между ценой квартиры и общей площадью, продаваемой квартиры, заметная сила корреляции. Чем больше площадь -> тем больше цена квартиры"
   ]
  },
  {
   "cell_type": "markdown",
   "metadata": {},
   "source": [
    "Посмотрим зависимость цены от жилой площади "
   ]
  },
  {
   "cell_type": "code",
   "execution_count": 32,
   "metadata": {
    "scrolled": false
   },
   "outputs": [
    {
     "name": "stdout",
     "output_type": "stream",
     "text": [
      "Коэфициэнт Пирсона: 0.56\n"
     ]
    },
    {
     "data": {
      "image/png": "[encoded data removed]",
      "text/plain": [
       "<Figure size 1080x504 with 1 Axes>"
      ]
     },
     "metadata": {
      "needs_background": "light"
     },
     "output_type": "display_data"
    }
   ],
   "source": [
    "living_area = data.pivot_table(\n",
    "    index = 'living_area', values = 'last_price', aggfunc = ['mean', 'count', 'median'])\n",
    "living_area.columns = ['mean', 'count', 'median']\n",
    "living_area.sort_values(by='median', ascending = False)\n",
    "\n",
    "living_area.plot(\n",
    "    y='median', style='o', grid=True, figsize=(15,7))\n",
    "plt.xlabel(\"Жилая площадь\")\n",
    "plt.ylabel(\"Цена квартиры\")\n",
    "\n",
    "print('Коэфициэнт Пирсона:' , data['living_area'].corr(data['last_price']).round(2))"
   ]
  },
  {
   "cell_type": "markdown",
   "metadata": {},
   "source": [
    "Ситуация схожа с общей площадью, коэфициэнт Пирсона: 0.56. Корреляция ниже чем у общей площади, но также можем утвержать - чем больше жилая площадь -> тем больше цена квартиры"
   ]
  },
  {
   "cell_type": "markdown",
   "metadata": {},
   "source": [
    "Посмотрим зависимость цены от кухонной площади "
   ]
  },
  {
   "cell_type": "code",
   "execution_count": 33,
   "metadata": {
    "scrolled": false
   },
   "outputs": [
    {
     "name": "stdout",
     "output_type": "stream",
     "text": [
      "Коэфициэнт Пирсона: 0.52\n"
     ]
    },
    {
     "data": {
      "image/png": "[encoded data removed]",
      "text/plain": [
       "<Figure size 1080x504 with 1 Axes>"
      ]
     },
     "metadata": {
      "needs_background": "light"
     },
     "output_type": "display_data"
    }
   ],
   "source": [
    "kitchen_area = data.pivot_table(\n",
    "    index = 'kitchen_area', values = 'last_price', aggfunc = ['mean', 'count', 'median'])\n",
    "kitchen_area.columns = ['mean', 'count', 'median']\n",
    "kitchen_area.sort_values(by='median', ascending = False)\n",
    "\n",
    "kitchen_area.plot(\n",
    "    y='median', style='o', grid=True, figsize=(15,7))\n",
    "plt.xlabel(\"Площадь кухни\")\n",
    "plt.ylabel(\"Цена за м²\")\n",
    "\n",
    "print('Коэфициэнт Пирсона:' , data['kitchen_area'].corr(data['last_price']).round(2))"
   ]
  },
  {
   "cell_type": "markdown",
   "metadata": {},
   "source": [
    "Коэфициэнт Пирсона: 0.52, наименьшей при сравнении влияния площадей на цену, однако сила корреляции остается заметной."
   ]
  },
  {
   "cell_type": "markdown",
   "metadata": {},
   "source": [
    "Посмотрим зависимость цены от кол-ва комнат"
   ]
  },
  {
   "cell_type": "code",
   "execution_count": 34,
   "metadata": {
    "scrolled": false
   },
   "outputs": [
    {
     "name": "stdout",
     "output_type": "stream",
     "text": [
      "Коэфициэнт Пирсона: 0.36\n"
     ]
    },
    {
     "data": {
      "image/png": "[encoded data removed]",
      "text/plain": [
       "<Figure size 360x360 with 1 Axes>"
      ]
     },
     "metadata": {
      "needs_background": "light"
     },
     "output_type": "display_data"
    }
   ],
   "source": [
    "rooms = data.query('rooms != 0').pivot_table(index='rooms', values='last_price', aggfunc = ['mean', 'count', 'median'])\n",
    "rooms.columns = ['mean', 'count', 'median']\n",
    "rooms.plot(grid=True, y='median', style='o-', figsize=(5, 5))\n",
    "plt.xlabel(\"Кол-во комнат\")\n",
    "plt.ylabel(\"Цена квартиры\")\n",
    "\n",
    "print('Коэфициэнт Пирсона:' , data.query('rooms != 0')['rooms'].corr(data['last_price']).round(2))"
   ]
  },
  {
   "cell_type": "markdown",
   "metadata": {},
   "source": [
    "В случае с влиянием кол-ва комнат на цену квартиры, коэфициэнт корреляции Пирсона умеренный: 0.36.\n",
    "\n",
    "На графике мы видим, что до 7 комнат включительно - цена только растет, посмотрим в срезе."
   ]
  },
  {
   "cell_type": "code",
   "execution_count": 35,
   "metadata": {
    "scrolled": false
   },
   "outputs": [
    {
     "name": "stdout",
     "output_type": "stream",
     "text": [
      "Коэфициэнт Пирсона: 0.37\n",
      "Коэфициэнт Пирсона: 0.06\n"
     ]
    },
    {
     "data": {
      "image/png": "[encoded data removed]",
      "text/plain": [
       "<Figure size 360x360 with 1 Axes>"
      ]
     },
     "metadata": {
      "needs_background": "light"
     },
     "output_type": "display_data"
    },
    {
     "data": {
      "image/png": "[encoded data removed]",
      "text/plain": [
       "<Figure size 360x360 with 1 Axes>"
      ]
     },
     "metadata": {
      "needs_background": "light"
     },
     "output_type": "display_data"
    }
   ],
   "source": [
    "#сделаем 2 выборки, квартиры до 7 комнат и квартиры 7+ комнат.\n",
    "\n",
    "data.query('rooms != 0 and rooms <= 7').pivot_table(\n",
    "    index='rooms', values='last_price', aggfunc ='median').plot(\n",
    "    grid=True, style='o-', figsize=(5, 5))\n",
    "\n",
    "plt.xlabel(\"Кол-во комнат\")\n",
    "plt.ylabel(\"Цена квартиры\")\n",
    "print('Коэфициэнт Пирсона:' , data.query('rooms != 0 and rooms < 7')['rooms'].corr(data['last_price']).round(2))\n",
    "\n",
    "data.query('rooms != 0 and rooms > 7').pivot_table(\n",
    "    index='rooms', values='last_price', aggfunc ='median').plot(\n",
    "    grid=True, style='o-', figsize=(5, 5))\n",
    "\n",
    "plt.xlabel(\"Кол-во комнат\")\n",
    "plt.ylabel(\"Цена квартиры\")\n",
    "\n",
    "print('Коэфициэнт Пирсона:' , data.query('rooms != 0 and rooms > 7')['rooms'].corr(data['last_price']).round(2))"
   ]
  },
  {
   "cell_type": "markdown",
   "metadata": {},
   "source": [
    "Можно сделать вывод, что кол-во комнат влияет на цену только до определенного момента. В квартирах с количеством комнат от 7 и больше нет зависимости цены квартиры и количества комнат."
   ]
  },
  {
   "cell_type": "markdown",
   "metadata": {},
   "source": [
    "Посмотрим влияние этажа на цену квартиры"
   ]
  },
  {
   "cell_type": "code",
   "execution_count": 36,
   "metadata": {
    "scrolled": false
   },
   "outputs": [
    {
     "data": {
      "text/html": [
       "<div>\n",
       "<style scoped>\n",
       "    .dataframe tbody tr th:only-of-type {\n",
       "        vertical-align: middle;\n",
       "    }\n",
       "\n",
       "    .dataframe tbody tr th {\n",
       "        vertical-align: top;\n",
       "    }\n",
       "\n",
       "    .dataframe thead th {\n",
       "        text-align: right;\n",
       "    }\n",
       "</style>\n",
       "<table border=\"1\" class=\"dataframe\">\n",
       "  <thead>\n",
       "    <tr style=\"text-align: right;\">\n",
       "      <th></th>\n",
       "      <th>count</th>\n",
       "      <th>median</th>\n",
       "      <th>mean</th>\n",
       "    </tr>\n",
       "    <tr>\n",
       "      <th>floor_type</th>\n",
       "      <th></th>\n",
       "      <th></th>\n",
       "      <th></th>\n",
       "    </tr>\n",
       "  </thead>\n",
       "  <tbody>\n",
       "    <tr>\n",
       "      <th>другой</th>\n",
       "      <td>17279</td>\n",
       "      <td>4830000</td>\n",
       "      <td>6656110</td>\n",
       "    </tr>\n",
       "    <tr>\n",
       "      <th>первый</th>\n",
       "      <td>2903</td>\n",
       "      <td>3900000</td>\n",
       "      <td>4800835</td>\n",
       "    </tr>\n",
       "    <tr>\n",
       "      <th>последний</th>\n",
       "      <td>3303</td>\n",
       "      <td>4300000</td>\n",
       "      <td>7123013</td>\n",
       "    </tr>\n",
       "  </tbody>\n",
       "</table>\n",
       "</div>"
      ],
      "text/plain": [
       "            count   median     mean\n",
       "floor_type                         \n",
       "другой      17279  4830000  6656110\n",
       "первый       2903  3900000  4800835\n",
       "последний    3303  4300000  7123013"
      ]
     },
     "execution_count": 36,
     "metadata": {},
     "output_type": "execute_result"
    },
    {
     "data": {
      "image/png": "[encoded data removed]",
      "text/plain": [
       "<Figure size 432x288 with 1 Axes>"
      ]
     },
     "metadata": {
      "needs_background": "light"
     },
     "output_type": "display_data"
    },
    {
     "data": {
      "image/png": "[encoded data removed]",
      "text/plain": [
       "<Figure size 360x360 with 1 Axes>"
      ]
     },
     "metadata": {
      "needs_background": "light"
     },
     "output_type": "display_data"
    }
   ],
   "source": [
    "sns.histplot(data=data, x=\"last_price\", hue=\"floor_type\", bins=50, element=\"poly\")\n",
    "\n",
    "plt.xlabel(\"Цена квартиры\")\n",
    "plt.ylabel(\"Кол-во квартир\")\n",
    "\n",
    "\n",
    "data.pivot_table(\n",
    "    index='floor_type', values='last_price', aggfunc = 'median').plot(\n",
    "    grid=True, style='o-', figsize=(5, 5))\n",
    "\n",
    "plt.xlabel(\"Тип этажа\")\n",
    "plt.ylabel(\"Кол-во квартир\")\n",
    "\n",
    "floor_type = data.pivot_table(\n",
    "    index='floor_type', values='last_price', aggfunc = ['count', 'median', 'mean'])\n",
    "floor_type.columns = ['count', 'median', 'mean']\n",
    "floor_type['mean'] = floor_type['mean'].astype('int64')\n",
    "\n",
    "floor_type"
   ]
  },
  {
   "cell_type": "markdown",
   "metadata": {},
   "source": [
    "Наименьшея цена у квартир расположенных на 1-м этаже, следом идут квартиры, рассполоденные на последнем этажа.\n",
    "\n",
    "Наибольшая цена у квартир расположенных не на 1-м этаже и не на последнем."
   ]
  },
  {
   "cell_type": "markdown",
   "metadata": {},
   "source": [
    "Посмотрим как влияет дата размещения на цену"
   ]
  },
  {
   "cell_type": "code",
   "execution_count": 37,
   "metadata": {
    "scrolled": false
   },
   "outputs": [
    {
     "name": "stdout",
     "output_type": "stream",
     "text": [
      "         count   median\n",
      "weekday                \n",
      "6         1679  4500000\n",
      "4         3966  4550000\n",
      "5         1915  4550000\n",
      "0         3586  4650000\n",
      "3         4258  4650000\n",
      "1         4146  4700000\n",
      "2         3935  4700000\n"
     ]
    },
    {
     "data": {
      "image/png": "[encoded data removed]",
      "text/plain": [
       "<Figure size 360x360 with 1 Axes>"
      ]
     },
     "metadata": {
      "needs_background": "light"
     },
     "output_type": "display_data"
    }
   ],
   "source": [
    "data.pivot_table(\n",
    "    index='weekday', values='last_price', aggfunc = 'median').plot(\n",
    "    grid=True, style='o-', figsize=(5, 5))\n",
    "\n",
    "weekday = data.pivot_table(index='weekday', values='last_price', aggfunc = ['count', 'median'])\n",
    "weekday.columns = ['count', 'median']\n",
    "\n",
    "plt.xlabel(\"День недели\")\n",
    "plt.ylabel(\"Цена\")\n",
    "\n",
    "print(weekday.sort_values('median'))"
   ]
  },
  {
   "cell_type": "markdown",
   "metadata": {},
   "source": [
    "В среду и вторник владельцы квартиры устанавливают наибольшую цену.\n",
    "В воскресение устаналивается наименьшая цена."
   ]
  },
  {
   "cell_type": "code",
   "execution_count": 38,
   "metadata": {
    "scrolled": false
   },
   "outputs": [
    {
     "name": "stdout",
     "output_type": "stream",
     "text": [
      "       count   median\n",
      "month                \n",
      "6       1744  4400000\n",
      "5       1258  4500000\n",
      "8       1733  4570000\n",
      "10      2101  4570000\n",
      "1       1484  4600000\n",
      "7       1676  4600000\n",
      "2       2628  4650000\n",
      "3       2562  4650000\n",
      "12      1631  4690000\n",
      "11      2350  4699500\n",
      "9       1966  4700000\n",
      "4       2352  4800000\n"
     ]
    },
    {
     "data": {
      "image/png": "[encoded data removed]",
      "text/plain": [
       "<Figure size 1080x504 with 1 Axes>"
      ]
     },
     "metadata": {
      "needs_background": "light"
     },
     "output_type": "display_data"
    }
   ],
   "source": [
    "data.pivot_table(\n",
    "    index='month', values='last_price', aggfunc = 'median').plot(\n",
    "    grid=True, style='o-', figsize=(15, 7))\n",
    "\n",
    "month = data.pivot_table(index='month', values='last_price', aggfunc = ['count', 'median'])\n",
    "month.columns = ['count', 'median']\n",
    "\n",
    "plt.xlabel(\"Месяц\")\n",
    "plt.ylabel(\"Цена\")\n",
    "\n",
    "print(month.sort_values('median'))"
   ]
  },
  {
   "cell_type": "markdown",
   "metadata": {},
   "source": [
    "В апреле и сентября владельцы квартир устанавливают наибольшую цену.\n",
    "В мае и июне устаналивается наименьшая цена."
   ]
  },
  {
   "cell_type": "code",
   "execution_count": 39,
   "metadata": {
    "scrolled": false
   },
   "outputs": [
    {
     "name": "stdout",
     "output_type": "stream",
     "text": [
      "      count   median\n",
      "year                \n",
      "2014    135  7580000\n",
      "2015   1159  5300000\n",
      "2019   2863  5050000\n",
      "2018   8458  4550000\n",
      "2016   2739  4500000\n",
      "2017   8131  4500000\n"
     ]
    },
    {
     "data": {
      "image/png": "[encoded data removed]",
      "text/plain": [
       "<Figure size 360x360 with 1 Axes>"
      ]
     },
     "metadata": {
      "needs_background": "light"
     },
     "output_type": "display_data"
    }
   ],
   "source": [
    "data.pivot_table(\n",
    "    index='year', values='last_price', aggfunc = 'median').plot(\n",
    "    grid=True, style='o-', figsize=(5, 5))\n",
    "\n",
    "year = data.pivot_table(index='year', values='last_price', aggfunc = ['count', 'median'])\n",
    "year.columns = ['count', 'median']\n",
    "\n",
    "print(year.sort_values('median', ascending=False))"
   ]
  },
  {
   "cell_type": "code",
   "execution_count": 40,
   "metadata": {},
   "outputs": [
    {
     "name": "stdout",
     "output_type": "stream",
     "text": [
      "Коэфициэнт корреляции Пирсона(год/цена за м²): -0.03\n",
      "Коэфициэнт Пирсона(год/общая цена): 0.02\n",
      "Коэфициэнт Пирсона(год/общая площадь): -0.08\n"
     ]
    },
    {
     "data": {
      "text/html": [
       "<div>\n",
       "<style scoped>\n",
       "    .dataframe tbody tr th:only-of-type {\n",
       "        vertical-align: middle;\n",
       "    }\n",
       "\n",
       "    .dataframe tbody tr th {\n",
       "        vertical-align: top;\n",
       "    }\n",
       "\n",
       "    .dataframe thead th {\n",
       "        text-align: right;\n",
       "    }\n",
       "</style>\n",
       "<table border=\"1\" class=\"dataframe\">\n",
       "  <thead>\n",
       "    <tr style=\"text-align: right;\">\n",
       "      <th></th>\n",
       "      <th>число_квартир</th>\n",
       "      <th>средняя_цена</th>\n",
       "      <th>средняя_цена_за_м</th>\n",
       "      <th>средняя_площадь</th>\n",
       "      <th>медиана_цены</th>\n",
       "      <th>медиана_цены за м</th>\n",
       "      <th>медиана_площади</th>\n",
       "    </tr>\n",
       "    <tr>\n",
       "      <th>year</th>\n",
       "      <th></th>\n",
       "      <th></th>\n",
       "      <th></th>\n",
       "      <th></th>\n",
       "      <th></th>\n",
       "      <th></th>\n",
       "      <th></th>\n",
       "    </tr>\n",
       "  </thead>\n",
       "  <tbody>\n",
       "    <tr>\n",
       "      <th>2014</th>\n",
       "      <td>135</td>\n",
       "      <td>11817315</td>\n",
       "      <td>124085</td>\n",
       "      <td>84.8</td>\n",
       "      <td>7580000</td>\n",
       "      <td>106803</td>\n",
       "      <td>76.1</td>\n",
       "    </tr>\n",
       "    <tr>\n",
       "      <th>2015</th>\n",
       "      <td>1159</td>\n",
       "      <td>8415037</td>\n",
       "      <td>104434</td>\n",
       "      <td>70.6</td>\n",
       "      <td>5300000</td>\n",
       "      <td>93333</td>\n",
       "      <td>60.0</td>\n",
       "    </tr>\n",
       "    <tr>\n",
       "      <th>2016</th>\n",
       "      <td>2739</td>\n",
       "      <td>6814612</td>\n",
       "      <td>98186</td>\n",
       "      <td>62.0</td>\n",
       "      <td>4500000</td>\n",
       "      <td>91666</td>\n",
       "      <td>53.0</td>\n",
       "    </tr>\n",
       "    <tr>\n",
       "      <th>2017</th>\n",
       "      <td>8131</td>\n",
       "      <td>6520927</td>\n",
       "      <td>97370</td>\n",
       "      <td>60.5</td>\n",
       "      <td>4500000</td>\n",
       "      <td>92500</td>\n",
       "      <td>52.0</td>\n",
       "    </tr>\n",
       "    <tr>\n",
       "      <th>2018</th>\n",
       "      <td>8458</td>\n",
       "      <td>5915059</td>\n",
       "      <td>97606</td>\n",
       "      <td>57.6</td>\n",
       "      <td>4550000</td>\n",
       "      <td>95652</td>\n",
       "      <td>50.5</td>\n",
       "    </tr>\n",
       "    <tr>\n",
       "      <th>2019</th>\n",
       "      <td>2863</td>\n",
       "      <td>6779685</td>\n",
       "      <td>107118</td>\n",
       "      <td>59.4</td>\n",
       "      <td>5050000</td>\n",
       "      <td>103305</td>\n",
       "      <td>52.0</td>\n",
       "    </tr>\n",
       "  </tbody>\n",
       "</table>\n",
       "</div>"
      ],
      "text/plain": [
       "      число_квартир  средняя_цена  средняя_цена_за_м  средняя_площадь  \\\n",
       "year                                                                    \n",
       "2014            135      11817315             124085             84.8   \n",
       "2015           1159       8415037             104434             70.6   \n",
       "2016           2739       6814612              98186             62.0   \n",
       "2017           8131       6520927              97370             60.5   \n",
       "2018           8458       5915059              97606             57.6   \n",
       "2019           2863       6779685             107118             59.4   \n",
       "\n",
       "      медиана_цены  медиана_цены за м  медиана_площади  \n",
       "year                                                    \n",
       "2014       7580000             106803             76.1  \n",
       "2015       5300000              93333             60.0  \n",
       "2016       4500000              91666             53.0  \n",
       "2017       4500000              92500             52.0  \n",
       "2018       4550000              95652             50.5  \n",
       "2019       5050000             103305             52.0  "
      ]
     },
     "execution_count": 40,
     "metadata": {},
     "output_type": "execute_result"
    }
   ],
   "source": [
    "year2 = data.pivot_table(\n",
    "    index='year', values=['total_area', 'price_per_square_meter', 'last_price'], aggfunc = ['count', 'mean', 'median'])\n",
    "year2.columns = [\n",
    "    'число_квартир', 'count1', 'count2', \n",
    "    'средняя_цена', 'средняя_цена_за_м' ,'средняя_площадь', \n",
    "    'медиана_цены', 'медиана_цены за м', 'медиана_площади']\n",
    "\n",
    "\n",
    "\n",
    "year2.loc[:, ['средняя_цена', 'средняя_цена_за_м']] = year2.loc[:, ['средняя_цена', 'средняя_цена_за_м']].astype('int64')\n",
    "\n",
    "year2['средняя_площадь'] = year2['средняя_площадь'].round(1)\n",
    "\n",
    "print('Коэфициэнт корреляции Пирсона(год/цена за м²):' , data.query('year != 2014')['year'].corr(data['last_price']).round(2))\n",
    "print('Коэфициэнт Пирсона(год/общая цена):' , data.query('year != 2014')['year'].corr(data['price_per_square_meter']).round(2))\n",
    "print('Коэфициэнт Пирсона(год/общая площадь):' , data['year'].corr(data['total_area']).round(2))\n",
    "\n",
    "year2.drop(columns=['count1', 'count2'])"
   ]
  },
  {
   "cell_type": "markdown",
   "metadata": {},
   "source": [
    "- Если брать соотнощение общая цена/цена за м²/площадь - 2019 год был лучшим для продажи кваритры, 2017 худшим;\n",
    "- Есть слабая динамика от года к году к снижению общей площади квартиры и увеличению цены за м², что в целом, можно назвать положительным фактором влиящим на цену квартиры для владельцев."
   ]
  },
  {
   "cell_type": "markdown",
   "metadata": {},
   "source": [
    "<a name=\"Найдем\"></a>\n",
    "**Найдем среднию цену одного квадратного метра в 10 населённых пунктах с наибольшим числом объявлений**"
   ]
  },
  {
   "cell_type": "code",
   "execution_count": 41,
   "metadata": {
    "scrolled": true
   },
   "outputs": [
    {
     "data": {
      "text/html": [
       "<div>\n",
       "<style scoped>\n",
       "    .dataframe tbody tr th:only-of-type {\n",
       "        vertical-align: middle;\n",
       "    }\n",
       "\n",
       "    .dataframe tbody tr th {\n",
       "        vertical-align: top;\n",
       "    }\n",
       "\n",
       "    .dataframe thead th {\n",
       "        text-align: right;\n",
       "    }\n",
       "</style>\n",
       "<table border=\"1\" class=\"dataframe\">\n",
       "  <thead>\n",
       "    <tr style=\"text-align: right;\">\n",
       "      <th></th>\n",
       "      <th>count</th>\n",
       "      <th>median</th>\n",
       "      <th>mean</th>\n",
       "    </tr>\n",
       "    <tr>\n",
       "      <th>locality_name</th>\n",
       "      <th></th>\n",
       "      <th></th>\n",
       "      <th></th>\n",
       "    </tr>\n",
       "  </thead>\n",
       "  <tbody>\n",
       "    <tr>\n",
       "      <th>Санкт-Петербург</th>\n",
       "      <td>15589</td>\n",
       "      <td>104750.0</td>\n",
       "      <td>114642.303612</td>\n",
       "    </tr>\n",
       "    <tr>\n",
       "      <th>Пушкин</th>\n",
       "      <td>368</td>\n",
       "      <td>99993.5</td>\n",
       "      <td>103057.915761</td>\n",
       "    </tr>\n",
       "    <tr>\n",
       "      <th>Кудрово</th>\n",
       "      <td>470</td>\n",
       "      <td>95555.0</td>\n",
       "      <td>95260.393617</td>\n",
       "    </tr>\n",
       "    <tr>\n",
       "      <th>Парголово</th>\n",
       "      <td>327</td>\n",
       "      <td>91642.0</td>\n",
       "      <td>90175.489297</td>\n",
       "    </tr>\n",
       "    <tr>\n",
       "      <th>Мурино</th>\n",
       "      <td>584</td>\n",
       "      <td>86249.5</td>\n",
       "      <td>86017.652397</td>\n",
       "    </tr>\n",
       "    <tr>\n",
       "      <th>Шушары</th>\n",
       "      <td>439</td>\n",
       "      <td>76829.0</td>\n",
       "      <td>78550.883827</td>\n",
       "    </tr>\n",
       "    <tr>\n",
       "      <th>Колпино</th>\n",
       "      <td>338</td>\n",
       "      <td>74723.5</td>\n",
       "      <td>75424.150888</td>\n",
       "    </tr>\n",
       "    <tr>\n",
       "      <th>Гатчина</th>\n",
       "      <td>306</td>\n",
       "      <td>67860.0</td>\n",
       "      <td>68757.225490</td>\n",
       "    </tr>\n",
       "    <tr>\n",
       "      <th>Всеволожск</th>\n",
       "      <td>397</td>\n",
       "      <td>65789.0</td>\n",
       "      <td>68605.105793</td>\n",
       "    </tr>\n",
       "    <tr>\n",
       "      <th>Выборг</th>\n",
       "      <td>236</td>\n",
       "      <td>58133.0</td>\n",
       "      <td>58093.474576</td>\n",
       "    </tr>\n",
       "  </tbody>\n",
       "</table>\n",
       "</div>"
      ],
      "text/plain": [
       "                 count    median           mean\n",
       "locality_name                                  \n",
       "Санкт-Петербург  15589  104750.0  114642.303612\n",
       "Пушкин             368   99993.5  103057.915761\n",
       "Кудрово            470   95555.0   95260.393617\n",
       "Парголово          327   91642.0   90175.489297\n",
       "Мурино             584   86249.5   86017.652397\n",
       "Шушары             439   76829.0   78550.883827\n",
       "Колпино            338   74723.5   75424.150888\n",
       "Гатчина            306   67860.0   68757.225490\n",
       "Всеволожск         397   65789.0   68605.105793\n",
       "Выборг             236   58133.0   58093.474576"
      ]
     },
     "execution_count": 41,
     "metadata": {},
     "output_type": "execute_result"
    }
   ],
   "source": [
    "locality_name = data.pivot_table(\n",
    "    index='locality_name', values='price_per_square_meter', aggfunc=['count', 'median', 'mean'])\n",
    "locality_name.columns = ['count', 'median', 'mean']\n",
    "\n",
    "locality_name = locality_name.query('count > 235').sort_values('median', ascending=False)\n",
    "\n",
    "locality_name"
   ]
  },
  {
   "cell_type": "markdown",
   "metadata": {},
   "source": [
    "Самыми дорогими городами для покупки вартиры являются Санкт-Петербург и Пушкин.\n",
    "\n",
    "Самыми дешевыми городами для покупки квартиры являются Всеволожск и Выборг."
   ]
  },
  {
   "cell_type": "markdown",
   "metadata": {},
   "source": [
    "<a name=\"расстояния\"></a>\n",
    "**Посмотрим влияние расстояния до центра горада на стоимость квартиры**"
   ]
  },
  {
   "cell_type": "code",
   "execution_count": 42,
   "metadata": {
    "scrolled": false
   },
   "outputs": [
    {
     "name": "stdout",
     "output_type": "stream",
     "text": [
      "Коэфициэнт Пирсона: -0.31\n"
     ]
    },
    {
     "data": {
      "text/html": [
       "<div>\n",
       "<style scoped>\n",
       "    .dataframe tbody tr th:only-of-type {\n",
       "        vertical-align: middle;\n",
       "    }\n",
       "\n",
       "    .dataframe tbody tr th {\n",
       "        vertical-align: top;\n",
       "    }\n",
       "\n",
       "    .dataframe thead th {\n",
       "        text-align: right;\n",
       "    }\n",
       "</style>\n",
       "<table border=\"1\" class=\"dataframe\">\n",
       "  <thead>\n",
       "    <tr style=\"text-align: right;\">\n",
       "      <th></th>\n",
       "      <th>mean</th>\n",
       "    </tr>\n",
       "    <tr>\n",
       "      <th>cityCenters_nearest_km</th>\n",
       "      <th></th>\n",
       "    </tr>\n",
       "  </thead>\n",
       "  <tbody>\n",
       "    <tr>\n",
       "      <th>0</th>\n",
       "      <td>188192.464286</td>\n",
       "    </tr>\n",
       "    <tr>\n",
       "      <th>1</th>\n",
       "      <td>164809.289362</td>\n",
       "    </tr>\n",
       "    <tr>\n",
       "      <th>2</th>\n",
       "      <td>145185.382838</td>\n",
       "    </tr>\n",
       "    <tr>\n",
       "      <th>3</th>\n",
       "      <td>129598.104449</td>\n",
       "    </tr>\n",
       "    <tr>\n",
       "      <th>4</th>\n",
       "      <td>136738.359865</td>\n",
       "    </tr>\n",
       "    <tr>\n",
       "      <th>5</th>\n",
       "      <td>146226.944809</td>\n",
       "    </tr>\n",
       "    <tr>\n",
       "      <th>6</th>\n",
       "      <td>151857.167024</td>\n",
       "    </tr>\n",
       "    <tr>\n",
       "      <th>7</th>\n",
       "      <td>141399.287469</td>\n",
       "    </tr>\n",
       "    <tr>\n",
       "      <th>8</th>\n",
       "      <td>119858.246988</td>\n",
       "    </tr>\n",
       "    <tr>\n",
       "      <th>9</th>\n",
       "      <td>110034.316327</td>\n",
       "    </tr>\n",
       "    <tr>\n",
       "      <th>10</th>\n",
       "      <td>111500.130243</td>\n",
       "    </tr>\n",
       "    <tr>\n",
       "      <th>11</th>\n",
       "      <td>106626.367972</td>\n",
       "    </tr>\n",
       "    <tr>\n",
       "      <th>12</th>\n",
       "      <td>108289.639735</td>\n",
       "    </tr>\n",
       "    <tr>\n",
       "      <th>13</th>\n",
       "      <td>107163.781609</td>\n",
       "    </tr>\n",
       "    <tr>\n",
       "      <th>14</th>\n",
       "      <td>104976.351963</td>\n",
       "    </tr>\n",
       "    <tr>\n",
       "      <th>15</th>\n",
       "      <td>101914.739035</td>\n",
       "    </tr>\n",
       "    <tr>\n",
       "      <th>16</th>\n",
       "      <td>100051.840580</td>\n",
       "    </tr>\n",
       "    <tr>\n",
       "      <th>17</th>\n",
       "      <td>94665.973129</td>\n",
       "    </tr>\n",
       "    <tr>\n",
       "      <th>18</th>\n",
       "      <td>94814.537572</td>\n",
       "    </tr>\n",
       "    <tr>\n",
       "      <th>19</th>\n",
       "      <td>95433.951220</td>\n",
       "    </tr>\n",
       "  </tbody>\n",
       "</table>\n",
       "</div>"
      ],
      "text/plain": [
       "                                 mean\n",
       "cityCenters_nearest_km               \n",
       "0                       188192.464286\n",
       "1                       164809.289362\n",
       "2                       145185.382838\n",
       "3                       129598.104449\n",
       "4                       136738.359865\n",
       "5                       146226.944809\n",
       "6                       151857.167024\n",
       "7                       141399.287469\n",
       "8                       119858.246988\n",
       "9                       110034.316327\n",
       "10                      111500.130243\n",
       "11                      106626.367972\n",
       "12                      108289.639735\n",
       "13                      107163.781609\n",
       "14                      104976.351963\n",
       "15                      101914.739035\n",
       "16                      100051.840580\n",
       "17                       94665.973129\n",
       "18                       94814.537572\n",
       "19                       95433.951220"
      ]
     },
     "execution_count": 42,
     "metadata": {},
     "output_type": "execute_result"
    },
    {
     "data": {
      "image/png": "[encoded data removed]",
      "text/plain": [
       "<Figure size 864x504 with 1 Axes>"
      ]
     },
     "metadata": {
      "needs_background": "light"
     },
     "output_type": "display_data"
    }
   ],
   "source": [
    "df = data.query('locality_name == \"Санкт-Петербург\"')\n",
    "\n",
    "#Кол-во пропусков 60, на исследование не повлияет - дропаем.\n",
    "df['cityCenters_nearest_km'].isna().sum()\n",
    "\n",
    "df = df.dropna(subset=['cityCenters_nearest_km'])\n",
    "\n",
    "df['cityCenters_nearest_km'] = df['cityCenters_nearest_km'].astype('int64')\n",
    "\n",
    "df['cityCenters_nearest_km'].value_counts().sort_values(ascending=False)\n",
    "\n",
    "df2 = df.pivot_table(\n",
    "    index='cityCenters_nearest_km', values ='price_per_square_meter', aggfunc=['mean'])\n",
    "\n",
    "print('Коэфициэнт Пирсона:' , df['cityCenters_nearest_km'].corr(df['price_per_square_meter']).round(2))\n",
    "\n",
    "df2.columns = ['mean']\n",
    "\n",
    "df2.plot(grid=True, style='o-', figsize=(12, 7),title = 'Влияние расстояния до центра горада на стоимость квартиры')\n",
    "\n",
    "df2.head(20)\n",
    "\n",
    "\n"
   ]
  },
  {
   "cell_type": "markdown",
   "metadata": {},
   "source": [
    "Согласно графику, чем дальше удаление от центра - тем выше цена кв. м.. \n",
    "Также есть всплеск цены с 4 по 7 км. включительно.\n",
    "\n",
    "C 9 км. цена за кв. м. становится средней по городу."
   ]
  },
  {
   "cell_type": "markdown",
   "metadata": {},
   "source": [
    "<a name=\"Общий_вывод\"></a>\n",
    "# 4. Общий вывод"
   ]
  },
  {
   "cell_type": "markdown",
   "metadata": {},
   "source": [
    "***Общее описание продаваемых квартир***\n",
    "\n",
    "- В основном на продажу выставляются квартиры метражом от 25 до 100 м². Наиболее распространенный метраж, продаваемых квартир, находится в районе 52 м².;\n",
    "- Наимболее распространенная цена в районе 50000 - 130000 руб.;\n",
    "- Самые популярные 1-3-х комнатные квартиры;\n",
    "- Самые распространенная этажность домов 5 и 9 этажей.\n",
    "\n",
    "\n",
    "**Время продажи квартиры:**\n",
    "Чаще всего квартира продается в районе 113 дней\n",
    "Быстрой продажей можно считать квартиру проданную за 44 дня и меньше.\n",
    "Необычно долгим временем продажи можно считать квартиру проданную за 500+ дней.\n",
    "\n",
    "\n",
    "**Факторы влияющие на стоимость квартиры**\n",
    "- Сильнее всего на стоиимость квартиры влияет общий метраж, в меньшей степени, но заметно, на стоимость влиют метраж жилой и кухонной площади;\n",
    "- Количество комнат также влияет на стоимость квартиры, но до определенного момента, после 7-й комнаты включительно, влияние сходит на нет;\n",
    "- Есть слабая динамика от года к году к снижению общей площади квартиры и увеличению цены за м², что в целом, можно назвать положительным фактором влиящим на цену квартиры для ее владельцев;\n",
    "- Квартиры расположенные на 1-м и последнем этажах стоят дешевле;\n",
    "- В апреле и сентября цены на квартиры выше, в мае и июне устаналивается наименьшая цена;\n",
    "- В среду и вторник на квартиру устанавливают наибольшую цену, в воскресение устаналивается наименьшая цена;\n",
    "- Наибольшая цена за м² наблюдается в Санкт-Петербурге 104750.0 руб., самые дешевые квартиры в Выборге 58133.0 руб.\n",
    "\n",
    "\n",
    "***Влияние расстояние до центра горада на стоимость квартиры:***\n",
    "На примере Санкт-Петербурга умеренная отрицательная корреляция, чем дальше квартира от центра города, тем ниже цена её цена."
   ]
  }
 ],
 "metadata": {
  "ExecuteTimeLog": [
   {
    "duration": 587,
    "start_time": "2022-08-18T17:05:16.781Z"
   },
   {
    "duration": 14,
    "start_time": "2022-08-18T17:05:34.791Z"
   },
   {
    "duration": 93,
    "start_time": "2022-08-18T17:06:16.076Z"
   },
   {
    "duration": 108,
    "start_time": "2022-08-18T17:06:27.651Z"
   },
   {
    "duration": 9,
    "start_time": "2022-08-18T17:06:31.737Z"
   },
   {
    "duration": 81,
    "start_time": "2022-08-18T17:06:45.667Z"
   },
   {
    "duration": 7,
    "start_time": "2022-08-18T17:06:48.070Z"
   },
   {
    "duration": 97,
    "start_time": "2022-08-18T17:06:58.192Z"
   },
   {
    "duration": 110,
    "start_time": "2022-08-18T17:08:58.520Z"
   },
   {
    "duration": 513,
    "start_time": "2022-08-18T17:09:57.848Z"
   },
   {
    "duration": 14,
    "start_time": "2022-08-18T17:09:58.362Z"
   },
   {
    "duration": 96,
    "start_time": "2022-08-18T17:10:16.348Z"
   },
   {
    "duration": 7,
    "start_time": "2022-08-18T17:10:18.817Z"
   },
   {
    "duration": 112,
    "start_time": "2022-08-18T17:11:53.332Z"
   },
   {
    "duration": 29,
    "start_time": "2022-08-18T17:11:56.078Z"
   },
   {
    "duration": 104,
    "start_time": "2022-08-18T17:12:29.059Z"
   },
   {
    "duration": 26,
    "start_time": "2022-08-18T17:12:36.016Z"
   },
   {
    "duration": 87,
    "start_time": "2022-08-18T17:14:24.842Z"
   },
   {
    "duration": 104,
    "start_time": "2022-08-18T17:14:32.487Z"
   },
   {
    "duration": 98,
    "start_time": "2022-08-18T17:21:07.384Z"
   },
   {
    "duration": 85,
    "start_time": "2022-08-18T17:21:20.066Z"
   },
   {
    "duration": 99,
    "start_time": "2022-08-18T17:21:30.946Z"
   },
   {
    "duration": 2601,
    "start_time": "2022-08-18T17:21:37.270Z"
   },
   {
    "duration": 7,
    "start_time": "2022-08-18T18:18:13.446Z"
   },
   {
    "duration": 2378,
    "start_time": "2022-08-18T21:09:08.872Z"
   },
   {
    "duration": 2351,
    "start_time": "2022-08-18T21:09:28.819Z"
   },
   {
    "duration": 2308,
    "start_time": "2022-08-18T21:10:55.220Z"
   },
   {
    "duration": 32,
    "start_time": "2022-08-18T21:11:03.802Z"
   },
   {
    "duration": 5,
    "start_time": "2022-08-18T21:14:17.164Z"
   },
   {
    "duration": 1831,
    "start_time": "2022-08-22T19:25:58.104Z"
   },
   {
    "duration": 0,
    "start_time": "2022-08-22T19:25:59.939Z"
   },
   {
    "duration": 0,
    "start_time": "2022-08-22T19:25:59.941Z"
   },
   {
    "duration": 0,
    "start_time": "2022-08-22T19:25:59.943Z"
   },
   {
    "duration": 0,
    "start_time": "2022-08-22T19:25:59.944Z"
   },
   {
    "duration": 0,
    "start_time": "2022-08-22T19:25:59.946Z"
   },
   {
    "duration": 0,
    "start_time": "2022-08-22T19:25:59.948Z"
   },
   {
    "duration": 0,
    "start_time": "2022-08-22T19:25:59.949Z"
   },
   {
    "duration": 0,
    "start_time": "2022-08-22T19:25:59.950Z"
   },
   {
    "duration": 0,
    "start_time": "2022-08-22T19:25:59.951Z"
   },
   {
    "duration": 0,
    "start_time": "2022-08-22T19:25:59.952Z"
   },
   {
    "duration": 0,
    "start_time": "2022-08-22T19:25:59.953Z"
   },
   {
    "duration": 0,
    "start_time": "2022-08-22T19:25:59.954Z"
   },
   {
    "duration": 0,
    "start_time": "2022-08-22T19:25:59.955Z"
   },
   {
    "duration": 0,
    "start_time": "2022-08-22T19:25:59.957Z"
   },
   {
    "duration": 0,
    "start_time": "2022-08-22T19:25:59.958Z"
   },
   {
    "duration": 0,
    "start_time": "2022-08-22T19:25:59.959Z"
   },
   {
    "duration": 0,
    "start_time": "2022-08-22T19:25:59.961Z"
   },
   {
    "duration": 0,
    "start_time": "2022-08-22T19:25:59.961Z"
   },
   {
    "duration": 0,
    "start_time": "2022-08-22T19:25:59.963Z"
   },
   {
    "duration": 0,
    "start_time": "2022-08-22T19:25:59.963Z"
   },
   {
    "duration": 0,
    "start_time": "2022-08-22T19:25:59.964Z"
   },
   {
    "duration": 0,
    "start_time": "2022-08-22T19:25:59.965Z"
   },
   {
    "duration": 0,
    "start_time": "2022-08-22T19:25:59.967Z"
   },
   {
    "duration": 0,
    "start_time": "2022-08-22T19:25:59.967Z"
   },
   {
    "duration": 0,
    "start_time": "2022-08-22T19:25:59.968Z"
   },
   {
    "duration": 2182,
    "start_time": "2022-08-22T19:26:22.253Z"
   },
   {
    "duration": 3467,
    "start_time": "2022-08-22T19:26:28.545Z"
   },
   {
    "duration": 113,
    "start_time": "2022-08-22T19:26:32.015Z"
   },
   {
    "duration": 48898,
    "start_time": "2022-08-22T19:26:32.130Z"
   },
   {
    "duration": 108,
    "start_time": "2022-08-22T19:27:21.031Z"
   },
   {
    "duration": 391,
    "start_time": "2022-08-22T19:27:21.142Z"
   },
   {
    "duration": 331,
    "start_time": "2022-08-22T19:27:21.535Z"
   },
   {
    "duration": 428,
    "start_time": "2022-08-22T19:27:21.868Z"
   },
   {
    "duration": 304,
    "start_time": "2022-08-22T19:27:22.298Z"
   },
   {
    "duration": 627,
    "start_time": "2022-08-22T19:27:22.604Z"
   },
   {
    "duration": 776,
    "start_time": "2022-08-22T19:27:23.246Z"
   },
   {
    "duration": 752,
    "start_time": "2022-08-22T19:27:24.026Z"
   },
   {
    "duration": 1036,
    "start_time": "2022-08-22T19:27:24.779Z"
   },
   {
    "duration": 391,
    "start_time": "2022-08-22T19:27:25.817Z"
   },
   {
    "duration": 713,
    "start_time": "2022-08-22T19:27:26.210Z"
   },
   {
    "duration": 680,
    "start_time": "2022-08-22T19:27:26.925Z"
   },
   {
    "duration": 307,
    "start_time": "2022-08-22T19:27:27.607Z"
   },
   {
    "duration": 296,
    "start_time": "2022-08-22T19:27:27.921Z"
   },
   {
    "duration": 277,
    "start_time": "2022-08-22T19:27:28.219Z"
   },
   {
    "duration": 228,
    "start_time": "2022-08-22T19:27:28.502Z"
   },
   {
    "duration": 367,
    "start_time": "2022-08-22T19:27:28.733Z"
   },
   {
    "duration": 411,
    "start_time": "2022-08-22T19:27:29.101Z"
   },
   {
    "duration": 196,
    "start_time": "2022-08-22T19:27:29.513Z"
   },
   {
    "duration": 231,
    "start_time": "2022-08-22T19:27:29.711Z"
   },
   {
    "duration": 253,
    "start_time": "2022-08-22T19:27:29.944Z"
   },
   {
    "duration": 39,
    "start_time": "2022-08-22T19:27:30.200Z"
   },
   {
    "duration": 269,
    "start_time": "2022-08-22T19:27:30.241Z"
   },
   {
    "duration": 14,
    "start_time": "2022-08-22T19:35:22.067Z"
   },
   {
    "duration": 49,
    "start_time": "2022-08-22T21:29:20.619Z"
   },
   {
    "duration": 3099,
    "start_time": "2022-08-22T21:42:57.001Z"
   },
   {
    "duration": 89,
    "start_time": "2022-08-22T21:46:48.706Z"
   },
   {
    "duration": 346,
    "start_time": "2022-08-22T21:49:55.619Z"
   },
   {
    "duration": 541,
    "start_time": "2022-08-22T21:50:01.692Z"
   },
   {
    "duration": 531,
    "start_time": "2022-08-22T21:51:07.127Z"
   },
   {
    "duration": 493,
    "start_time": "2022-08-22T21:51:39.125Z"
   },
   {
    "duration": 549,
    "start_time": "2022-08-22T21:52:25.959Z"
   },
   {
    "duration": 505,
    "start_time": "2022-08-22T21:52:44.587Z"
   },
   {
    "duration": 529,
    "start_time": "2022-08-22T21:52:49.353Z"
   },
   {
    "duration": 555,
    "start_time": "2022-08-22T21:53:45.929Z"
   },
   {
    "duration": 504,
    "start_time": "2022-08-22T21:54:03.269Z"
   },
   {
    "duration": 388,
    "start_time": "2022-08-22T21:54:25.153Z"
   },
   {
    "duration": 394,
    "start_time": "2022-08-22T21:54:34.741Z"
   },
   {
    "duration": 321,
    "start_time": "2022-08-22T21:59:31.752Z"
   },
   {
    "duration": 72,
    "start_time": "2022-08-22T22:01:56.436Z"
   },
   {
    "duration": 261,
    "start_time": "2022-08-22T22:02:48.865Z"
   },
   {
    "duration": 286,
    "start_time": "2022-08-22T22:02:59.936Z"
   },
   {
    "duration": 73,
    "start_time": "2022-08-22T22:17:11.240Z"
   },
   {
    "duration": 37476,
    "start_time": "2022-08-22T22:17:18.178Z"
   },
   {
    "duration": 313,
    "start_time": "2022-08-22T22:18:23.055Z"
   },
   {
    "duration": 274,
    "start_time": "2022-08-22T22:18:30.366Z"
   },
   {
    "duration": 376,
    "start_time": "2022-08-22T22:18:34.231Z"
   },
   {
    "duration": 271,
    "start_time": "2022-08-22T22:18:36.956Z"
   },
   {
    "duration": 525,
    "start_time": "2022-08-22T22:18:39.709Z"
   },
   {
    "duration": 666,
    "start_time": "2022-08-22T22:18:42.966Z"
   },
   {
    "duration": 674,
    "start_time": "2022-08-22T22:18:47.522Z"
   },
   {
    "duration": 422,
    "start_time": "2022-08-22T22:18:53.391Z"
   },
   {
    "duration": 448,
    "start_time": "2022-08-22T22:19:07.482Z"
   },
   {
    "duration": 152,
    "start_time": "2022-08-22T22:19:14.609Z"
   },
   {
    "duration": 171,
    "start_time": "2022-08-22T22:19:23.197Z"
   },
   {
    "duration": 158,
    "start_time": "2022-08-22T22:19:25.507Z"
   },
   {
    "duration": 140,
    "start_time": "2022-08-22T22:19:27.784Z"
   },
   {
    "duration": 271,
    "start_time": "2022-08-22T22:19:29.920Z"
   },
   {
    "duration": 353,
    "start_time": "2022-08-22T22:19:32.267Z"
   },
   {
    "duration": 289,
    "start_time": "2022-08-22T22:19:36.008Z"
   },
   {
    "duration": 194,
    "start_time": "2022-08-22T22:19:38.443Z"
   },
   {
    "duration": 147,
    "start_time": "2022-08-22T22:19:40.777Z"
   },
   {
    "duration": 31,
    "start_time": "2022-08-22T22:19:44.433Z"
   },
   {
    "duration": 21,
    "start_time": "2022-08-22T22:19:49.806Z"
   },
   {
    "duration": 11,
    "start_time": "2022-08-22T22:20:10.349Z"
   },
   {
    "duration": 23,
    "start_time": "2022-08-22T22:20:21.907Z"
   },
   {
    "duration": 28,
    "start_time": "2022-08-22T22:20:40.360Z"
   },
   {
    "duration": 24,
    "start_time": "2022-08-22T22:21:04.908Z"
   },
   {
    "duration": 11,
    "start_time": "2022-08-22T22:22:45.852Z"
   },
   {
    "duration": 17,
    "start_time": "2022-08-22T22:23:05.735Z"
   },
   {
    "duration": 16,
    "start_time": "2022-08-22T22:23:48.755Z"
   },
   {
    "duration": 6,
    "start_time": "2022-08-22T22:24:22.950Z"
   },
   {
    "duration": 19,
    "start_time": "2022-08-22T22:24:33.515Z"
   },
   {
    "duration": 22,
    "start_time": "2022-08-22T22:25:42.893Z"
   },
   {
    "duration": 16,
    "start_time": "2022-08-22T22:27:55.760Z"
   },
   {
    "duration": 18,
    "start_time": "2022-08-22T22:28:07.354Z"
   },
   {
    "duration": 16,
    "start_time": "2022-08-22T22:29:17.364Z"
   },
   {
    "duration": 18,
    "start_time": "2022-08-22T22:30:10.255Z"
   },
   {
    "duration": 19,
    "start_time": "2022-08-22T22:30:32.520Z"
   },
   {
    "duration": 20,
    "start_time": "2022-08-22T22:31:18.510Z"
   },
   {
    "duration": 75,
    "start_time": "2022-08-22T22:32:42.010Z"
   },
   {
    "duration": 1356,
    "start_time": "2022-08-22T22:33:23.306Z"
   },
   {
    "duration": 3,
    "start_time": "2022-08-22T22:34:52.041Z"
   },
   {
    "duration": 12,
    "start_time": "2022-08-22T22:35:07.933Z"
   },
   {
    "duration": 49,
    "start_time": "2022-08-22T22:37:35.923Z"
   },
   {
    "duration": 20,
    "start_time": "2022-08-22T22:38:15.795Z"
   },
   {
    "duration": 41,
    "start_time": "2022-08-22T22:38:25.325Z"
   },
   {
    "duration": 30,
    "start_time": "2022-08-22T22:38:45.193Z"
   },
   {
    "duration": 16,
    "start_time": "2022-08-22T22:38:59.780Z"
   },
   {
    "duration": 15,
    "start_time": "2022-08-22T22:39:06.058Z"
   },
   {
    "duration": 12,
    "start_time": "2022-08-22T22:39:13.570Z"
   },
   {
    "duration": 13,
    "start_time": "2022-08-22T22:39:34.294Z"
   },
   {
    "duration": 17,
    "start_time": "2022-08-22T22:39:50.538Z"
   },
   {
    "duration": 15,
    "start_time": "2022-08-22T22:39:58.773Z"
   },
   {
    "duration": 18,
    "start_time": "2022-08-22T22:40:19.946Z"
   },
   {
    "duration": 20,
    "start_time": "2022-08-22T22:40:34.528Z"
   },
   {
    "duration": 21,
    "start_time": "2022-08-22T22:42:19.233Z"
   },
   {
    "duration": 16,
    "start_time": "2022-08-22T22:58:43.976Z"
   },
   {
    "duration": 52,
    "start_time": "2022-08-23T09:28:32.044Z"
   },
   {
    "duration": 3677,
    "start_time": "2022-08-23T09:29:17.555Z"
   },
   {
    "duration": 3594,
    "start_time": "2022-08-23T09:29:28.639Z"
   },
   {
    "duration": 102,
    "start_time": "2022-08-23T09:29:32.235Z"
   },
   {
    "duration": 42094,
    "start_time": "2022-08-23T09:29:32.343Z"
   },
   {
    "duration": 80,
    "start_time": "2022-08-23T09:30:14.439Z"
   },
   {
    "duration": 434,
    "start_time": "2022-08-23T09:30:14.521Z"
   },
   {
    "duration": 336,
    "start_time": "2022-08-23T09:30:14.957Z"
   },
   {
    "duration": 464,
    "start_time": "2022-08-23T09:30:15.295Z"
   },
   {
    "duration": 315,
    "start_time": "2022-08-23T09:30:15.761Z"
   },
   {
    "duration": 360,
    "start_time": "2022-08-23T09:30:16.080Z"
   },
   {
    "duration": 610,
    "start_time": "2022-08-23T09:30:16.443Z"
   },
   {
    "duration": 871,
    "start_time": "2022-08-23T09:30:17.055Z"
   },
   {
    "duration": 835,
    "start_time": "2022-08-23T09:30:17.928Z"
   },
   {
    "duration": 498,
    "start_time": "2022-08-23T09:30:18.765Z"
   },
   {
    "duration": 532,
    "start_time": "2022-08-23T09:30:19.265Z"
   },
   {
    "duration": 538,
    "start_time": "2022-08-23T09:30:19.802Z"
   },
   {
    "duration": 199,
    "start_time": "2022-08-23T09:30:20.342Z"
   },
   {
    "duration": 311,
    "start_time": "2022-08-23T09:30:20.543Z"
   },
   {
    "duration": 201,
    "start_time": "2022-08-23T09:30:20.856Z"
   },
   {
    "duration": 183,
    "start_time": "2022-08-23T09:30:21.059Z"
   },
   {
    "duration": 345,
    "start_time": "2022-08-23T09:30:21.244Z"
   },
   {
    "duration": 395,
    "start_time": "2022-08-23T09:30:21.591Z"
   },
   {
    "duration": 198,
    "start_time": "2022-08-23T09:30:21.987Z"
   },
   {
    "duration": 229,
    "start_time": "2022-08-23T09:30:22.187Z"
   },
   {
    "duration": 172,
    "start_time": "2022-08-23T09:30:22.418Z"
   },
   {
    "duration": 39,
    "start_time": "2022-08-23T09:30:22.592Z"
   },
   {
    "duration": 6,
    "start_time": "2022-08-23T09:30:22.632Z"
   },
   {
    "duration": 125,
    "start_time": "2022-08-23T09:30:22.641Z"
   },
   {
    "duration": 20,
    "start_time": "2022-08-23T09:31:18.559Z"
   },
   {
    "duration": 32,
    "start_time": "2022-08-23T09:37:16.947Z"
   },
   {
    "duration": 51,
    "start_time": "2022-08-23T09:37:29.027Z"
   },
   {
    "duration": 23,
    "start_time": "2022-08-23T09:37:42.992Z"
   },
   {
    "duration": 12,
    "start_time": "2022-08-23T09:38:08.251Z"
   },
   {
    "duration": 200,
    "start_time": "2022-08-23T09:38:18.541Z"
   },
   {
    "duration": 21,
    "start_time": "2022-08-23T09:55:27.584Z"
   },
   {
    "duration": 12,
    "start_time": "2022-08-23T09:55:56.024Z"
   },
   {
    "duration": 21,
    "start_time": "2022-08-23T09:56:47.187Z"
   },
   {
    "duration": 25,
    "start_time": "2022-08-23T09:57:10.577Z"
   },
   {
    "duration": 33,
    "start_time": "2022-08-23T09:57:57.805Z"
   },
   {
    "duration": 20,
    "start_time": "2022-08-23T09:58:26.944Z"
   },
   {
    "duration": 120,
    "start_time": "2022-08-23T09:58:32.717Z"
   },
   {
    "duration": 27,
    "start_time": "2022-08-23T09:59:02.898Z"
   },
   {
    "duration": 34,
    "start_time": "2022-08-23T09:59:34.497Z"
   },
   {
    "duration": 41,
    "start_time": "2022-08-23T09:59:45.098Z"
   },
   {
    "duration": 31,
    "start_time": "2022-08-23T10:00:00.365Z"
   },
   {
    "duration": 35,
    "start_time": "2022-08-23T10:00:13.101Z"
   },
   {
    "duration": 27,
    "start_time": "2022-08-23T10:00:53.570Z"
   },
   {
    "duration": 14,
    "start_time": "2022-08-23T10:02:11.524Z"
   },
   {
    "duration": 311,
    "start_time": "2022-08-23T10:02:19.237Z"
   },
   {
    "duration": 34,
    "start_time": "2022-08-23T10:02:31.526Z"
   },
   {
    "duration": 35,
    "start_time": "2022-08-23T10:03:18.040Z"
   },
   {
    "duration": 35,
    "start_time": "2022-08-23T10:03:36.091Z"
   },
   {
    "duration": 48,
    "start_time": "2022-08-23T10:07:25.500Z"
   },
   {
    "duration": 76,
    "start_time": "2022-08-23T10:08:03.836Z"
   },
   {
    "duration": 37,
    "start_time": "2022-08-23T10:08:33.973Z"
   },
   {
    "duration": 34,
    "start_time": "2022-08-23T10:08:51.464Z"
   },
   {
    "duration": 520,
    "start_time": "2022-08-23T10:10:59.336Z"
   },
   {
    "duration": 577,
    "start_time": "2022-08-23T10:11:18.199Z"
   },
   {
    "duration": 36,
    "start_time": "2022-08-23T10:12:06.519Z"
   },
   {
    "duration": 38,
    "start_time": "2022-08-23T10:22:37.719Z"
   },
   {
    "duration": 36,
    "start_time": "2022-08-23T10:23:04.561Z"
   },
   {
    "duration": 36,
    "start_time": "2022-08-23T10:26:21.021Z"
   },
   {
    "duration": 35,
    "start_time": "2022-08-23T10:26:45.605Z"
   },
   {
    "duration": 41,
    "start_time": "2022-08-23T10:28:22.388Z"
   },
   {
    "duration": 31,
    "start_time": "2022-08-23T10:28:33.029Z"
   },
   {
    "duration": 40,
    "start_time": "2022-08-23T10:29:02.483Z"
   },
   {
    "duration": 59,
    "start_time": "2022-08-23T10:31:03.432Z"
   },
   {
    "duration": 68,
    "start_time": "2022-08-23T10:31:31.300Z"
   },
   {
    "duration": 62,
    "start_time": "2022-08-23T10:31:49.010Z"
   },
   {
    "duration": 53,
    "start_time": "2022-08-23T10:31:56.406Z"
   },
   {
    "duration": 51,
    "start_time": "2022-08-23T10:32:35.991Z"
   },
   {
    "duration": 49,
    "start_time": "2022-08-23T10:32:40.721Z"
   },
   {
    "duration": 50,
    "start_time": "2022-08-23T10:32:43.660Z"
   },
   {
    "duration": 52,
    "start_time": "2022-08-23T10:32:46.932Z"
   },
   {
    "duration": 48,
    "start_time": "2022-08-23T10:33:24.599Z"
   },
   {
    "duration": 47,
    "start_time": "2022-08-23T10:35:14.157Z"
   },
   {
    "duration": 48,
    "start_time": "2022-08-23T10:36:56.940Z"
   },
   {
    "duration": 44,
    "start_time": "2022-08-23T10:37:14.905Z"
   },
   {
    "duration": 55,
    "start_time": "2022-08-23T10:37:18.985Z"
   },
   {
    "duration": 49,
    "start_time": "2022-08-23T10:37:27.252Z"
   },
   {
    "duration": 52,
    "start_time": "2022-08-23T10:38:27.521Z"
   },
   {
    "duration": 54,
    "start_time": "2022-08-23T10:41:35.007Z"
   },
   {
    "duration": 51,
    "start_time": "2022-08-23T10:42:02.712Z"
   },
   {
    "duration": 51,
    "start_time": "2022-08-23T10:42:22.755Z"
   },
   {
    "duration": 43,
    "start_time": "2022-08-23T10:44:11.566Z"
   },
   {
    "duration": 31,
    "start_time": "2022-08-23T10:47:07.353Z"
   },
   {
    "duration": 32,
    "start_time": "2022-08-23T10:47:11.346Z"
   },
   {
    "duration": 376,
    "start_time": "2022-08-23T10:47:20.250Z"
   },
   {
    "duration": 280,
    "start_time": "2022-08-23T10:47:31.418Z"
   },
   {
    "duration": 39,
    "start_time": "2022-08-23T10:47:43.037Z"
   },
   {
    "duration": 37,
    "start_time": "2022-08-23T10:48:46.760Z"
   },
   {
    "duration": 40,
    "start_time": "2022-08-23T10:50:36.849Z"
   },
   {
    "duration": 943,
    "start_time": "2022-08-23T10:51:00.874Z"
   },
   {
    "duration": 1026,
    "start_time": "2022-08-23T10:54:31.736Z"
   },
   {
    "duration": 41,
    "start_time": "2022-08-23T10:55:21.534Z"
   },
   {
    "duration": 34,
    "start_time": "2022-08-23T10:56:24.573Z"
   },
   {
    "duration": 40,
    "start_time": "2022-08-23T10:56:29.194Z"
   },
   {
    "duration": 42,
    "start_time": "2022-08-23T10:56:58.418Z"
   },
   {
    "duration": 50,
    "start_time": "2022-08-23T10:58:41.646Z"
   },
   {
    "duration": 55,
    "start_time": "2022-08-23T10:58:57.575Z"
   },
   {
    "duration": 6,
    "start_time": "2022-08-23T11:01:30.230Z"
   },
   {
    "duration": 62,
    "start_time": "2022-08-23T11:01:35.376Z"
   },
   {
    "duration": 60,
    "start_time": "2022-08-23T11:01:41.042Z"
   },
   {
    "duration": 232,
    "start_time": "2022-08-23T11:22:13.436Z"
   },
   {
    "duration": 418,
    "start_time": "2022-08-23T11:40:05.767Z"
   },
   {
    "duration": 548,
    "start_time": "2022-08-23T11:40:21.879Z"
   },
   {
    "duration": 418,
    "start_time": "2022-08-23T11:41:04.460Z"
   },
   {
    "duration": 192,
    "start_time": "2022-08-23T11:48:25.577Z"
   },
   {
    "duration": 195,
    "start_time": "2022-08-23T11:49:00.070Z"
   },
   {
    "duration": 235,
    "start_time": "2022-08-23T11:49:13.164Z"
   },
   {
    "duration": 227,
    "start_time": "2022-08-23T11:49:21.733Z"
   },
   {
    "duration": 295,
    "start_time": "2022-08-23T11:49:40.973Z"
   },
   {
    "duration": 230,
    "start_time": "2022-08-23T11:49:54.160Z"
   },
   {
    "duration": 220,
    "start_time": "2022-08-23T11:51:49.947Z"
   },
   {
    "duration": 254,
    "start_time": "2022-08-23T11:54:05.229Z"
   },
   {
    "duration": 253,
    "start_time": "2022-08-23T11:54:31.525Z"
   },
   {
    "duration": 227,
    "start_time": "2022-08-23T11:55:15.487Z"
   },
   {
    "duration": 241,
    "start_time": "2022-08-23T11:55:46.354Z"
   },
   {
    "duration": 224,
    "start_time": "2022-08-23T11:56:34.037Z"
   },
   {
    "duration": 48,
    "start_time": "2022-08-23T11:57:10.961Z"
   },
   {
    "duration": 54,
    "start_time": "2022-08-23T11:57:49.119Z"
   },
   {
    "duration": 88,
    "start_time": "2022-08-23T11:59:22.458Z"
   },
   {
    "duration": 463,
    "start_time": "2022-08-23T11:59:55.309Z"
   },
   {
    "duration": 361,
    "start_time": "2022-08-23T12:01:35.018Z"
   },
   {
    "duration": 320,
    "start_time": "2022-08-23T12:02:49.414Z"
   },
   {
    "duration": 319,
    "start_time": "2022-08-23T12:02:55.219Z"
   },
   {
    "duration": 331,
    "start_time": "2022-08-23T12:03:04.292Z"
   },
   {
    "duration": 439,
    "start_time": "2022-08-23T12:03:09.721Z"
   },
   {
    "duration": 346,
    "start_time": "2022-08-23T12:03:18.291Z"
   },
   {
    "duration": 218,
    "start_time": "2022-08-23T12:04:30.242Z"
   },
   {
    "duration": 7,
    "start_time": "2022-08-23T12:06:07.793Z"
   },
   {
    "duration": 202,
    "start_time": "2022-08-23T12:06:27.542Z"
   },
   {
    "duration": 3623,
    "start_time": "2022-08-23T12:08:28.238Z"
   },
   {
    "duration": 112,
    "start_time": "2022-08-23T12:08:31.864Z"
   },
   {
    "duration": 43536,
    "start_time": "2022-08-23T12:08:31.978Z"
   },
   {
    "duration": 92,
    "start_time": "2022-08-23T12:09:15.518Z"
   },
   {
    "duration": 434,
    "start_time": "2022-08-23T12:09:15.612Z"
   },
   {
    "duration": 330,
    "start_time": "2022-08-23T12:09:16.047Z"
   },
   {
    "duration": 370,
    "start_time": "2022-08-23T12:09:16.379Z"
   },
   {
    "duration": 305,
    "start_time": "2022-08-23T12:09:16.750Z"
   },
   {
    "duration": 494,
    "start_time": "2022-08-23T12:09:17.057Z"
   },
   {
    "duration": 604,
    "start_time": "2022-08-23T12:09:17.554Z"
   },
   {
    "duration": 878,
    "start_time": "2022-08-23T12:09:18.160Z"
   },
   {
    "duration": 871,
    "start_time": "2022-08-23T12:09:19.040Z"
   },
   {
    "duration": 338,
    "start_time": "2022-08-23T12:09:19.913Z"
   },
   {
    "duration": 682,
    "start_time": "2022-08-23T12:09:20.253Z"
   },
   {
    "duration": 589,
    "start_time": "2022-08-23T12:09:20.936Z"
   },
   {
    "duration": 206,
    "start_time": "2022-08-23T12:09:21.527Z"
   },
   {
    "duration": 213,
    "start_time": "2022-08-23T12:09:21.735Z"
   },
   {
    "duration": 200,
    "start_time": "2022-08-23T12:09:21.950Z"
   },
   {
    "duration": 185,
    "start_time": "2022-08-23T12:09:22.151Z"
   },
   {
    "duration": 351,
    "start_time": "2022-08-23T12:09:22.338Z"
   },
   {
    "duration": 491,
    "start_time": "2022-08-23T12:09:22.691Z"
   },
   {
    "duration": 204,
    "start_time": "2022-08-23T12:09:23.184Z"
   },
   {
    "duration": 225,
    "start_time": "2022-08-23T12:09:23.389Z"
   },
   {
    "duration": 191,
    "start_time": "2022-08-23T12:09:23.617Z"
   },
   {
    "duration": 56,
    "start_time": "2022-08-23T12:09:23.810Z"
   },
   {
    "duration": 60,
    "start_time": "2022-08-23T12:09:23.869Z"
   },
   {
    "duration": 210,
    "start_time": "2022-08-23T12:09:23.931Z"
   },
   {
    "duration": 2219,
    "start_time": "2022-08-23T12:10:23.902Z"
   },
   {
    "duration": 2349,
    "start_time": "2022-08-23T12:10:30.233Z"
   },
   {
    "duration": 2224,
    "start_time": "2022-08-23T12:10:37.084Z"
   },
   {
    "duration": 3557,
    "start_time": "2022-08-23T12:10:45.288Z"
   },
   {
    "duration": 140,
    "start_time": "2022-08-23T12:10:48.848Z"
   },
   {
    "duration": 42603,
    "start_time": "2022-08-23T12:10:48.990Z"
   },
   {
    "duration": 88,
    "start_time": "2022-08-23T12:11:31.595Z"
   },
   {
    "duration": 436,
    "start_time": "2022-08-23T12:11:31.685Z"
   },
   {
    "duration": 327,
    "start_time": "2022-08-23T12:11:32.123Z"
   },
   {
    "duration": 351,
    "start_time": "2022-08-23T12:11:32.452Z"
   },
   {
    "duration": 296,
    "start_time": "2022-08-23T12:11:32.806Z"
   },
   {
    "duration": 474,
    "start_time": "2022-08-23T12:11:33.104Z"
   },
   {
    "duration": 587,
    "start_time": "2022-08-23T12:11:33.580Z"
   },
   {
    "duration": 855,
    "start_time": "2022-08-23T12:11:34.168Z"
   },
   {
    "duration": 842,
    "start_time": "2022-08-23T12:11:35.025Z"
   },
   {
    "duration": 324,
    "start_time": "2022-08-23T12:11:35.869Z"
   },
   {
    "duration": 648,
    "start_time": "2022-08-23T12:11:36.195Z"
   },
   {
    "duration": 563,
    "start_time": "2022-08-23T12:11:36.845Z"
   },
   {
    "duration": 213,
    "start_time": "2022-08-23T12:11:37.410Z"
   },
   {
    "duration": 222,
    "start_time": "2022-08-23T12:11:37.625Z"
   },
   {
    "duration": 200,
    "start_time": "2022-08-23T12:11:37.849Z"
   },
   {
    "duration": 189,
    "start_time": "2022-08-23T12:11:38.050Z"
   },
   {
    "duration": 348,
    "start_time": "2022-08-23T12:11:38.241Z"
   },
   {
    "duration": 600,
    "start_time": "2022-08-23T12:11:38.591Z"
   },
   {
    "duration": 210,
    "start_time": "2022-08-23T12:11:39.193Z"
   },
   {
    "duration": 221,
    "start_time": "2022-08-23T12:11:39.404Z"
   },
   {
    "duration": 179,
    "start_time": "2022-08-23T12:11:39.626Z"
   },
   {
    "duration": 60,
    "start_time": "2022-08-23T12:11:39.806Z"
   },
   {
    "duration": 60,
    "start_time": "2022-08-23T12:11:39.868Z"
   },
   {
    "duration": 225,
    "start_time": "2022-08-23T12:11:39.930Z"
   },
   {
    "duration": 1366,
    "start_time": "2022-08-23T13:43:58.446Z"
   },
   {
    "duration": 0,
    "start_time": "2022-08-23T13:43:59.815Z"
   },
   {
    "duration": 0,
    "start_time": "2022-08-23T13:43:59.816Z"
   },
   {
    "duration": 0,
    "start_time": "2022-08-23T13:43:59.817Z"
   },
   {
    "duration": 0,
    "start_time": "2022-08-23T13:43:59.819Z"
   },
   {
    "duration": 0,
    "start_time": "2022-08-23T13:43:59.820Z"
   },
   {
    "duration": 0,
    "start_time": "2022-08-23T13:43:59.822Z"
   },
   {
    "duration": 0,
    "start_time": "2022-08-23T13:43:59.823Z"
   },
   {
    "duration": 0,
    "start_time": "2022-08-23T13:43:59.824Z"
   },
   {
    "duration": 0,
    "start_time": "2022-08-23T13:43:59.825Z"
   },
   {
    "duration": 0,
    "start_time": "2022-08-23T13:43:59.826Z"
   },
   {
    "duration": 0,
    "start_time": "2022-08-23T13:43:59.828Z"
   },
   {
    "duration": 0,
    "start_time": "2022-08-23T13:43:59.829Z"
   },
   {
    "duration": 0,
    "start_time": "2022-08-23T13:43:59.831Z"
   },
   {
    "duration": 0,
    "start_time": "2022-08-23T13:43:59.832Z"
   },
   {
    "duration": 0,
    "start_time": "2022-08-23T13:43:59.833Z"
   },
   {
    "duration": 0,
    "start_time": "2022-08-23T13:43:59.835Z"
   },
   {
    "duration": 0,
    "start_time": "2022-08-23T13:43:59.836Z"
   },
   {
    "duration": 0,
    "start_time": "2022-08-23T13:43:59.837Z"
   },
   {
    "duration": 0,
    "start_time": "2022-08-23T13:43:59.838Z"
   },
   {
    "duration": 0,
    "start_time": "2022-08-23T13:43:59.840Z"
   },
   {
    "duration": 0,
    "start_time": "2022-08-23T13:43:59.841Z"
   },
   {
    "duration": 0,
    "start_time": "2022-08-23T13:43:59.843Z"
   },
   {
    "duration": 0,
    "start_time": "2022-08-23T13:43:59.844Z"
   },
   {
    "duration": 0,
    "start_time": "2022-08-23T13:43:59.846Z"
   },
   {
    "duration": 0,
    "start_time": "2022-08-23T13:43:59.847Z"
   },
   {
    "duration": 0,
    "start_time": "2022-08-23T13:43:59.848Z"
   },
   {
    "duration": 3286,
    "start_time": "2022-08-23T13:44:37.834Z"
   },
   {
    "duration": 112,
    "start_time": "2022-08-23T13:44:41.123Z"
   },
   {
    "duration": 37655,
    "start_time": "2022-08-23T13:44:41.236Z"
   },
   {
    "duration": 70,
    "start_time": "2022-08-23T13:45:18.893Z"
   },
   {
    "duration": 331,
    "start_time": "2022-08-23T13:45:18.965Z"
   },
   {
    "duration": 279,
    "start_time": "2022-08-23T13:45:19.299Z"
   },
   {
    "duration": 274,
    "start_time": "2022-08-23T13:45:19.580Z"
   },
   {
    "duration": 276,
    "start_time": "2022-08-23T13:45:19.855Z"
   },
   {
    "duration": 415,
    "start_time": "2022-08-23T13:45:20.132Z"
   },
   {
    "duration": 504,
    "start_time": "2022-08-23T13:45:20.550Z"
   },
   {
    "duration": 769,
    "start_time": "2022-08-23T13:45:21.055Z"
   },
   {
    "duration": 751,
    "start_time": "2022-08-23T13:45:21.825Z"
   },
   {
    "duration": 282,
    "start_time": "2022-08-23T13:45:22.578Z"
   },
   {
    "duration": 556,
    "start_time": "2022-08-23T13:45:22.862Z"
   },
   {
    "duration": 472,
    "start_time": "2022-08-23T13:45:23.420Z"
   },
   {
    "duration": 191,
    "start_time": "2022-08-23T13:45:23.900Z"
   },
   {
    "duration": 202,
    "start_time": "2022-08-23T13:45:24.092Z"
   },
   {
    "duration": 173,
    "start_time": "2022-08-23T13:45:24.296Z"
   },
   {
    "duration": 156,
    "start_time": "2022-08-23T13:45:24.471Z"
   },
   {
    "duration": 287,
    "start_time": "2022-08-23T13:45:24.628Z"
   },
   {
    "duration": 436,
    "start_time": "2022-08-23T13:45:24.917Z"
   },
   {
    "duration": 175,
    "start_time": "2022-08-23T13:45:25.354Z"
   },
   {
    "duration": 186,
    "start_time": "2022-08-23T13:45:25.530Z"
   },
   {
    "duration": 145,
    "start_time": "2022-08-23T13:45:25.717Z"
   },
   {
    "duration": 69,
    "start_time": "2022-08-23T13:45:25.864Z"
   },
   {
    "duration": 34,
    "start_time": "2022-08-23T13:45:25.935Z"
   },
   {
    "duration": 215,
    "start_time": "2022-08-23T13:45:25.971Z"
   },
   {
    "duration": 189,
    "start_time": "2022-08-23T13:46:54.498Z"
   }
  ],
  "kernelspec": {
   "display_name": "Python 3 (ipykernel)",
   "language": "python",
   "name": "python3"
  },
  "language_info": {
   "codemirror_mode": {
    "name": "ipython",
    "version": 3
   },
   "file_extension": ".py",
   "mimetype": "text/x-python",
   "name": "python",
   "nbconvert_exporter": "python",
   "pygments_lexer": "ipython3",
   "version": "3.9.12"
  },
  "toc": {
   "base_numbering": 1,
   "nav_menu": {},
   "number_sections": true,
   "sideBar": true,
   "skip_h1_title": true,
   "title_cell": "Table of Contents",
   "title_sidebar": "Contents",
   "toc_cell": false,
   "toc_position": {
    "height": "calc(100% - 180px)",
    "left": "10px",
    "top": "150px",
    "width": "165px"
   },
   "toc_section_display": true,
   "toc_window_display": true
  }
 },
 "nbformat": 4,
 "nbformat_minor": 2
}
